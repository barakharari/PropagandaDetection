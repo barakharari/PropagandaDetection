{
 "cells": [
  {
   "cell_type": "code",
   "execution_count": 16,
   "source": [
    "import pandas\n",
    "import json\n",
    "import re\n",
    "from os.path import join, isdir\n",
    "from os import mkdir, rmdir"
   ],
   "outputs": [],
   "metadata": {}
  },
  {
   "cell_type": "code",
   "execution_count": 17,
   "source": [
    "trump_df_name = \"../DT_data.csv\"\n",
    "hillary_df_name = \"../HC_data.csv\"\n",
    "\n",
    "trump_df = pandas.read_csv(trump_df_name)\n",
    "hillary_df = pandas.read_csv(hillary_df_name)"
   ],
   "outputs": [],
   "metadata": {}
  },
  {
   "cell_type": "code",
   "execution_count": 18,
   "source": [
    "SEQ_LENGTH = 412\n",
    "\n",
    "def write_tweets(candidate, df, column, folder, file_type):\n",
    "\n",
    "  if not isdir(folder):\n",
    "    mkdir(folder)\n",
    "\n",
    "  for i in range(df[column].shape[0]):\n",
    "    tweets = json.loads(re.sub('\\'', '\\\"',  df[column][i]))\n",
    "    day = df[\"DATE\"][i]\n",
    "    category = column.lower()\n",
    "    index = 1\n",
    "    for tweet in tweets:\n",
    "      article_name = candidate + \"_\" + category + \"_\" + str(i) + \"_\" + str(index) + \".\" + file_type\n",
    "      index += 1\n",
    "      with open(join(folder, article_name), \"w\") as f:\n",
    "\n",
    "#### Write in aschern processing format\n",
    "        if file_type == \"txt\":\n",
    "          f.write(tweet[\"text\"])\n",
    "          f.write(\"\\n\\n\")\n",
    "#### Write JSON\n",
    "        elif file_type == \"json\":\n",
    "          tweet[\"date\"] = day\n",
    "          json.dump(tweet, f)\n",
    "\n",
    "def write_non_tweets(candidate, df, non_tweet_folder, file_type, aschern=False):\n",
    "  for i in range(df[\"NON_TWEETS\"].shape[0]):\n",
    "    if df[\"NON_TWEETS\"][i] == []:\n",
    "      continue\n",
    "    category = df[\"CONTENT_CATEGORY\"][i]\n",
    "    if type(category) == float or not category or category == \"tweet\":\n",
    "      continue\n",
    "    folder = non_tweet_folder\n",
    "    if not aschern:\n",
    "      folder = join(non_tweet_folder, category)\n",
    "    if not isdir(folder):\n",
    "      mkdir(folder)\n",
    "    article_name = candidate + \"_\" + category + \"_\" + str(i) + \".\" + file_type\n",
    "    with open(folder + \"/\" + article_name, \"w\") as f:\n",
    "\n",
    "#### Write in aschern processing format\n",
    "      if file_type == \"txt\":\n",
    "        #TODO: SPLIT BY SENTENCES \"/s, ./s ...\n",
    "        meta_article_name = candidate + \"_\" + category + \"_\" + str(i) + \".csv\"\n",
    "        meta_article_path = join(folder, \"..\", \"meta\")\n",
    "        Path(meta_article_path).mkdir(parents=True, exist_ok=True)\n",
    "\n",
    "        with open(join(meta_article_path, meta_article_name), \"w\") as mf:\n",
    "          \n",
    "          text = df[\"NON_TWEETS\"][i]\n",
    "          sentences = re.split('\\.\\s', text)\n",
    "          index = 0\n",
    "          spans = []\n",
    "          for sentence in sentences:\n",
    "            num_tokens = len(sentence.split())\n",
    "            spans.append((index, index+num_tokens))\n",
    "            index += num_tokens\n",
    "          tokens = [token for sentence in sentences for token in sentence.split()]\n",
    "          sentences = list(map(lambda x,y: (x,y[0],y[1]), sentences, spans))\n",
    "          for sentence in sentences:\n",
    "            if len(sentence[0]) < 1:\n",
    "              continue\n",
    "            token_start, token_end = get_nearest_token_span(SEQ_LENGTH, sentence[1], sentence[2], tokens)\n",
    "            f.write(\" \".join(tokens[token_start:token_end]))\n",
    "            f.write(\"\\n\")\n",
    "            mf.write(\", \".join(map(lambda x: str(x), sentence)) + \"\\n\")\n",
    "          mf.write(\"\\n\\n\")\n",
    "\n",
    "#### Write JSON\n",
    "      elif file_type == \"json\":\n",
    "        data = {\"text\": df[\"NON_TWEETS\"][i], \"date\": df[\"DATE\"][i]}\n",
    "        json.dump(data, f)\n",
    "      \n",
    "    # print(\"Processed file: \" + str(i))"
   ],
   "outputs": [],
   "metadata": {}
  },
  {
   "cell_type": "code",
   "execution_count": 19,
   "source": [
    "def get_nearest_token_span(seq_length, start, end, tokens):\n",
    "\n",
    "  seg_start, seg_end = 0, 0\n",
    "\n",
    "  span_length = end-start\n",
    "  left_or_right = (seq_length - span_length) // 2\n",
    "  at_left_edge = start-left_or_right < 0\n",
    "  at_right_edge = end+left_or_right > len(tokens)\n",
    "\n",
    "  if at_left_edge:\n",
    "    right_dist = seq_length - start - span_length\n",
    "    seg_end = min(len(tokens), end+right_dist)\n",
    "    seg_start = 0\n",
    "  elif at_right_edge:\n",
    "    left_dist = seq_length - ((len(tokens) - end) + span_length)\n",
    "    seg_start = max(0, start - left_dist)\n",
    "    seg_end = len(tokens)\n",
    "  else:\n",
    "    seg_start = start-left_or_right\n",
    "    seg_end = end + left_or_right\n",
    "  \n",
    "  return seg_start, seg_end"
   ],
   "outputs": [],
   "metadata": {}
  },
  {
   "cell_type": "code",
   "execution_count": 20,
   "source": [
    "def remove_dir(directory):\n",
    "  directory = Path(directory)\n",
    "  if not directory.is_dir():\n",
    "    return\n",
    "  for item in directory.iterdir():\n",
    "      if item.is_dir():\n",
    "        rmdir(item)\n",
    "      else:\n",
    "        item.unlink()\n",
    "  directory.rmdir()"
   ],
   "outputs": [],
   "metadata": {}
  },
  {
   "cell_type": "code",
   "execution_count": 22,
   "source": [
    "from pathlib import Path\n",
    "\n",
    "base_folder = \"../2016_election_data\"\n",
    "\n",
    "dt_directory = \"donald_trump_campaign\"\n",
    "hc_directory = \"hillary_clinton_campaign\"\n",
    "\n",
    "remove_dir(join(\"../2016_election_data\", dt_directory))\n",
    "remove_dir(join(\"../2016_election_data\", hc_directory))\n",
    "remove_dir(\"../aschern_data/meta\")\n",
    "remove_dir(\"../aschern_data\")\n",
    "\n",
    "Path(join(base_folder, dt_directory, \"donald_trump\")).mkdir(parents=True, exist_ok=True)\n",
    "Path(join(base_folder, hc_directory, \"hillary_clinton\")).mkdir(parents=True, exist_ok=True)"
   ],
   "outputs": [],
   "metadata": {}
  },
  {
   "cell_type": "markdown",
   "source": [
    "# Create folder structure with JSON documents"
   ],
   "metadata": {}
  },
  {
   "cell_type": "code",
   "execution_count": 6,
   "source": [
    "write_tweets(\"HC\", hillary_df, \"TWEETS\", join(base_folder, \"hillary_clinton_campaign/hillary_clinton/tweets\"), \"json\")\n",
    "write_tweets(\"HC\", hillary_df, \"RETWEETS\", join(base_folder, \"hillary_clinton_campaign/hillary_clinton/retweets\"), \"json\")\n",
    "write_tweets(\"DT\", trump_df, \"TWEETS\", join(base_folder, \"donald_trump_campaign/donald_trump/tweets\"), \"json\")\n",
    "write_tweets(\"DT\", trump_df, \"RETWEETS\", join(base_folder, \"donald_trump_campaign/donald_trump/retweets\"), \"json\")"
   ],
   "outputs": [],
   "metadata": {}
  },
  {
   "cell_type": "code",
   "execution_count": 28,
   "source": [
    "write_non_tweets(\"HC\", hillary_df, join(base_folder, \"hillary_clinton_campaign/hillary_clinton\"), \"json\")\n",
    "write_non_tweets(\"DT\", trump_df, join(base_folder, \"donald_trump_campaign/donald_trump\"), \"json\")"
   ],
   "outputs": [],
   "metadata": {}
  },
  {
   "cell_type": "markdown",
   "source": [
    "# Create folder structure for aschern model"
   ],
   "metadata": {}
  },
  {
   "cell_type": "code",
   "execution_count": 23,
   "source": [
    "write_tweets(\"HC\", hillary_df, \"TWEETS\", \"../aschern_data\", \"txt\")\n",
    "write_tweets(\"HC\", hillary_df, \"RETWEETS\", \"../aschern_data\", \"txt\")\n",
    "write_tweets(\"DT\", trump_df, \"TWEETS\", \"../aschern_data\", \"txt\")\n",
    "write_tweets(\"DT\", trump_df, \"RETWEETS\", \"../aschern_data\", \"txt\")"
   ],
   "outputs": [],
   "metadata": {}
  },
  {
   "cell_type": "code",
   "execution_count": 24,
   "source": [
    "write_non_tweets(\"HC\", hillary_df, \"../aschern_data\", \"txt\", aschern=True)\n",
    "write_non_tweets(\"DT\", trump_df, \"../aschern_data\", \"txt\", aschern=True)"
   ],
   "outputs": [],
   "metadata": {}
  },
  {
   "cell_type": "code",
   "execution_count": null,
   "source": [],
   "outputs": [],
   "metadata": {}
  }
 ],
 "metadata": {
  "orig_nbformat": 4,
  "language_info": {
   "name": "python",
   "version": "3.8.2",
   "mimetype": "text/x-python",
   "codemirror_mode": {
    "name": "ipython",
    "version": 3
   },
   "pygments_lexer": "ipython3",
   "nbconvert_exporter": "python",
   "file_extension": ".py"
  },
  "kernelspec": {
   "name": "python3",
   "display_name": "Python 3.8.2 64-bit"
  },
  "interpreter": {
   "hash": "31f2aee4e71d21fbe5cf8b01ff0e069b9275f58929596ceb00d14d90e3e16cd6"
  }
 },
 "nbformat": 4,
 "nbformat_minor": 2
}