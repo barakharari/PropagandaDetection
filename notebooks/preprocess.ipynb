{
 "cells": [
  {
   "cell_type": "code",
   "execution_count": null,
   "metadata": {},
   "outputs": [],
   "source": [
    "import pandas as pd\n",
    "import re\n",
    "import string"
   ]
  },
  {
   "cell_type": "markdown",
   "metadata": {},
   "source": []
  },
  {
   "cell_type": "code",
   "execution_count": null,
   "metadata": {},
   "outputs": [],
   "source": [
    "trump_data_path = \"../DT_data.csv\"\n",
    "hillary_data_path = \"../HC_data.csv\""
   ]
  },
  {
   "cell_type": "code",
   "execution_count": null,
   "metadata": {},
   "outputs": [],
   "source": [
    "#Load in csvs as dataframes\n",
    "trump_df = pd.read_csv(trump_data_path)\n",
    "hillary_df = pd.read_csv(hillary_data_path)"
   ]
  },
  {
   "cell_type": "code",
   "execution_count": null,
   "metadata": {},
   "outputs": [],
   "source": [
    "results_df = pd.read_csv(\"../classifier_training_data.csv\")"
   ]
  },
  {
   "cell_type": "code",
   "execution_count": 8,
   "metadata": {},
   "outputs": [
    {
     "data": {
      "text/plain": [
       "Index(['Unnamed: 0', 'Unnamed: 0.1', 'DATE', 'CONTENT_LINK',\n",
       "       'CONTENT_CATEGORY', 'CONTENT_TYPE', 'CONTENT', 'PROCESSED', 'TWEETS',\n",
       "       'RETWEETS', '0', 'PRESS_RELEASE', 'NON_TWEETS'],\n",
       "      dtype='object')"
      ]
     },
     "execution_count": 8,
     "metadata": {},
     "output_type": "execute_result"
    }
   ],
   "source": [
    "trump_df.columns"
   ]
  },
  {
   "cell_type": "code",
   "execution_count": 9,
   "metadata": {},
   "outputs": [
    {
     "data": {
      "text/plain": [
       "Index(['Unnamed: 0', 'File Name', 'Candidate', 'Sentence',\n",
       "       'Propaganda Segments', 'Loaded_Language', 'Name_Calling,Labeling',\n",
       "       'Repetition', 'Exaggeration,Minimisation', 'Doubt',\n",
       "       'Appeal_to_fear-prejudice', 'Flag-Waving', 'Causal_Oversimplification',\n",
       "       'Slogans', 'Appeal_to_Authority', 'Black-and-White_Fallacy',\n",
       "       'Thought-terminating Cliches', 'Whataboutism,Straw_Men,Red_Herring',\n",
       "       'Obfuscation,Intentional_Vagueness,Confusion',\n",
       "       'Bandwagon,Reductio_ad_hitlerum', 'Num Prop',\n",
       "       'Thought-terminating_Cliches'],\n",
       "      dtype='object')"
      ]
     },
     "execution_count": 9,
     "metadata": {},
     "output_type": "execute_result"
    }
   ],
   "source": [
    "results_df.columns"
   ]
  },
  {
   "cell_type": "code",
   "execution_count": 12,
   "metadata": {},
   "outputs": [
    {
     "data": {
      "text/plain": [
       "array(['tweet', 'press release', 'statement', 'remarks', 'others', nan],\n",
       "      dtype=object)"
      ]
     },
     "execution_count": 12,
     "metadata": {},
     "output_type": "execute_result"
    }
   ],
   "source": [
    "trump_df.CONTENT_CATEGORY.unique()"
   ]
  },
  {
   "cell_type": "code",
   "execution_count": 13,
   "metadata": {},
   "outputs": [
    {
     "data": {
      "text/plain": [
       "array(['press release', 'others', 'interview', 'statement', 'remarks',\n",
       "       'endorse'], dtype=object)"
      ]
     },
     "execution_count": 13,
     "metadata": {},
     "output_type": "execute_result"
    }
   ],
   "source": [
    "hillary_df.CONTENT_CATEGORY.unique()"
   ]
  },
  {
   "cell_type": "code",
   "execution_count": 10,
   "metadata": {},
   "outputs": [
    {
     "data": {
      "text/plain": [
       "0       DT_press_release_114.txt\n",
       "1       DT_press_release_114.txt\n",
       "2       DT_press_release_114.txt\n",
       "3       DT_press_release_114.txt\n",
       "4       DT_press_release_114.txt\n",
       "                  ...           \n",
       "4911           DT_tweets_1_4.txt\n",
       "4912         DT_tweets_309_3.txt\n",
       "4913         DT_tweets_437_9.txt\n",
       "4914         DT_tweets_461_3.txt\n",
       "4915        HC_statement_312.txt\n",
       "Name: File Name, Length: 4916, dtype: object"
      ]
     },
     "execution_count": 10,
     "metadata": {},
     "output_type": "execute_result"
    }
   ],
   "source": [
    "results_df[\"File Name\"]"
   ]
  },
  {
   "cell_type": "code",
   "execution_count": 30,
   "metadata": {},
   "outputs": [
    {
     "name": "stdout",
     "output_type": "stream",
     "text": [
      "['retweet', 'press_release', 'endorse', 'interview', 'others', 'remarks', 'tweet', 'statement']\n"
     ]
    }
   ],
   "source": [
    "import re\n",
    "# [\"_\".join(cat) for cat in \n",
    "category_types = [cat for cat in set(list(trump_df.CONTENT_CATEGORY.unique()) + list(hillary_df.CONTENT_CATEGORY.unique()))][1:]\n",
    "category_types = [\"retweet\"] + category_types\n",
    "category_types = [cat.replace(\" \", \"_\") for cat in category_types]\n",
    "print(category_types)\n",
    "content_categories = []\n",
    "for i in range(results_df.shape[0]):\n",
    "  file_name = results_df[\"File Name\"][i]\n",
    "  for cat in category_types:\n",
    "    if re.search(cat, file_name):\n",
    "      content_categories.append(cat)\n",
    "      break\n",
    "\n",
    "assert(len(content_categories) == results_df.shape[0]), print(len(content_categories), \" : \", results_df.shape[0])\n",
    "results_df[\"Content Category\"] = content_categories\n",
    "results_df.to_csv(\"../classifier_training_data.csv\")"
   ]
  },
  {
   "cell_type": "code",
   "execution_count": null,
   "metadata": {},
   "outputs": [],
   "source": [
    "#Print out columns\n",
    "\n",
    "# index = 10\n",
    "\n",
    "# print(trump_df.columns)\n",
    "# print(trump_df.iloc[index][\"CONTENT_LINK\"])\n",
    "# print(trump_df.iloc[index][\"CONTENT\"])\n",
    "# print(trump_df.iloc[index][\"PROCESSED\"])"
   ]
  },
  {
   "cell_type": "code",
   "execution_count": null,
   "metadata": {},
   "outputs": [],
   "source": [
    "total_tweets_trump = []\n",
    "total_tweets_hillary = []\n",
    "\n",
    "def handle_days_tweets(content):\n",
    "\n",
    "  tweets, retweets = [], []\n",
    "  \n",
    "  content = content.translate(str.maketrans('', '', '[]\\'\\\",'))\n",
    "  content = [c.strip() for c in re.split(\"(\\s\\d+\\s+\\d+\\s)\", content) if c != \"\"]\n",
    "\n",
    "  i = 0\n",
    "  while i < len(content):\n",
    "    if content[i].split()[0].isnumeric():\n",
    "      i += 1\n",
    "      continue\n",
    "\n",
    "    tweet = dict()\n",
    "    tweet[\"text\"] = content[i]\n",
    "\n",
    "    randf = content[i+1].split()\n",
    "\n",
    "    tweet[\"retweets\"] = randf[0]\n",
    "    tweet[\"favorites\"] = randf[1]\n",
    "\n",
    "    if (content[i][0] == \"@\"):\n",
    "      retweets.append(tweet)\n",
    "    else:\n",
    "      tweets.append(tweet)\n",
    "    i += 2\n",
    "\n",
    "  return tweets, retweets\n",
    "\n",
    "def handle_press_release(content):\n",
    "  content = content.translate(str.maketrans('', '', '[]\\\\\\','))\n",
    "  content = re.sub(r'^(n\\s|\\\"?\\(.*\\)\\s[a-zA-Z]+\\s\\d+(th|st|nd|rd)?\\s\\d{4}\\s?.\\s?)', \"\", content)\n",
    "  return content\n",
    "\n",
    "def process_content(df):\n",
    "\n",
    "  df_size = df.shape[0]\n",
    "\n",
    "  df[\"TWEETS\"] = [\"[]\"] * df_size\n",
    "  df[\"RETWEETS\"] = [\"[]\"] * df_size\n",
    "  df[\"NON_TWEETS\"] = [\"[]\"] * df_size\n",
    "\n",
    "  for c in range(df_size):\n",
    "\n",
    "    content = df[\"CONTENT\"][c] + \" \"\n",
    "    category = df[\"CONTENT_CATEGORY\"][c]\n",
    "\n",
    "    if (category == \"tweet\"):\n",
    "      df[\"TWEETS\"][c], df[\"RETWEETS\"][c] = handle_days_tweets(content)\n",
    "    else:\n",
    "      df[\"NON_TWEETS\"][c] = handle_press_release(content)"
   ]
  },
  {
   "cell_type": "code",
   "execution_count": null,
   "metadata": {},
   "outputs": [],
   "source": [
    "#Max number tweets = 87\n",
    "#Max number retweets = 25\n",
    "\n",
    "process_content(trump_df)\n",
    "process_content(hillary_df)"
   ]
  }
 ],
 "metadata": {
  "interpreter": {
   "hash": "31f2aee4e71d21fbe5cf8b01ff0e069b9275f58929596ceb00d14d90e3e16cd6"
  },
  "kernelspec": {
   "display_name": "Python 3.8.10 64-bit",
   "name": "python3"
  },
  "language_info": {
   "codemirror_mode": {
    "name": "ipython",
    "version": 3
   },
   "file_extension": ".py",
   "mimetype": "text/x-python",
   "name": "python",
   "nbconvert_exporter": "python",
   "pygments_lexer": "ipython3",
   "version": "3.8.2"
  },
  "orig_nbformat": 4
 },
 "nbformat": 4,
 "nbformat_minor": 2
}
