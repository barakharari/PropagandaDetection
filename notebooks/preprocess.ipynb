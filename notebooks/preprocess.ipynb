{
 "cells": [
  {
   "cell_type": "code",
   "execution_count": 48,
   "source": [
    "import pandas as pd\n",
    "import re\n",
    "import string"
   ],
   "outputs": [],
   "metadata": {}
  },
  {
   "cell_type": "markdown",
   "source": [],
   "metadata": {}
  },
  {
   "cell_type": "code",
   "execution_count": 4,
   "source": [
    "trump_data_path = \"../DT_data.csv\"\n",
    "hillary_data_path = \"../HC_data.csv\""
   ],
   "outputs": [],
   "metadata": {}
  },
  {
   "cell_type": "code",
   "execution_count": 5,
   "source": [
    "#Load in csvs as dataframes\n",
    "trump_df = pd.read_csv(trump_data_path)\n",
    "hillary_df = pd.read_csv(hillary_data_path)"
   ],
   "outputs": [],
   "metadata": {}
  },
  {
   "cell_type": "code",
   "execution_count": null,
   "source": [
    "#Print out columns\n",
    "\n",
    "# index = 10\n",
    "\n",
    "# print(trump_df.columns)\n",
    "# print(trump_df.iloc[index][\"CONTENT_LINK\"])\n",
    "# print(trump_df.iloc[index][\"CONTENT\"])\n",
    "# print(trump_df.iloc[index][\"PROCESSED\"])"
   ],
   "outputs": [],
   "metadata": {}
  },
  {
   "cell_type": "code",
   "execution_count": 131,
   "source": [
    "total_tweets_trump = []\n",
    "total_tweets_hillary = []\n",
    "\n",
    "def handle_days_tweets(content):\n",
    "\n",
    "  tweets, retweets = [], []\n",
    "  \n",
    "  content = content.translate(str.maketrans('', '', '[]\\'\\\",'))\n",
    "  content = [c.strip() for c in re.split(\"(\\s\\d+\\s+\\d+\\s)\", content) if c != \"\"]\n",
    "\n",
    "  i = 0\n",
    "  while i < len(content):\n",
    "    if content[i].split()[0].isnumeric():\n",
    "      i += 1\n",
    "      continue\n",
    "\n",
    "    tweet = dict()\n",
    "    tweet[\"text\"] = content[i]\n",
    "\n",
    "    randf = content[i+1].split()\n",
    "\n",
    "    tweet[\"retweets\"] = randf[0]\n",
    "    tweet[\"favorites\"] = randf[1]\n",
    "\n",
    "    if (content[i][0] == \"@\"):\n",
    "      retweets.append(tweet)\n",
    "    else:\n",
    "      tweets.append(tweet)\n",
    "    i += 2\n",
    "\n",
    "  return tweets, retweets\n",
    "\n",
    "def handle_press_release(content):\n",
    "  content = content.translate(str.maketrans('', '', '[]\\\\\\','))\n",
    "  content = re.sub(r'^(n\\s|\\\"?\\(.*\\)\\s[a-zA-Z]+\\s\\d+(th|st|nd|rd)?\\s\\d{4}\\s?.\\s?)', \"\", content)\n",
    "  return content\n",
    "\n",
    "def process_content(df):\n",
    "\n",
    "  df_size = df.shape[0]\n",
    "\n",
    "  df[\"TWEETS\"] = [\"[]\"] * df_size\n",
    "  df[\"RETWEETS\"] = [\"[]\"] * df_size\n",
    "  df[\"NON_TWEETS\"] = [\"[]\"] * df_size\n",
    "\n",
    "  for c in range(df_size):\n",
    "\n",
    "    content = df[\"CONTENT\"][c] + \" \"\n",
    "    category = df[\"CONTENT_CATEGORY\"][c]\n",
    "\n",
    "    if (category == \"tweet\"):\n",
    "      df[\"TWEETS\"][c], df[\"RETWEETS\"][c] = handle_days_tweets(content)\n",
    "    else:\n",
    "      df[\"NON_TWEETS\"][c] = handle_press_release(content)"
   ],
   "outputs": [],
   "metadata": {}
  },
  {
   "cell_type": "code",
   "execution_count": 132,
   "source": [
    "#Max number tweets = 87\n",
    "#Max number retweets = 25\n",
    "\n",
    "process_content(trump_df)\n",
    "process_content(hillary_df)"
   ],
   "outputs": [
    {
     "output_type": "stream",
     "name": "stderr",
     "text": [
      "/var/folders/_q/723x80zj33lggwq22rns5tf40000gn/T/ipykernel_5888/3731696927.py:52: SettingWithCopyWarning: \n",
      "A value is trying to be set on a copy of a slice from a DataFrame\n",
      "\n",
      "See the caveats in the documentation: https://pandas.pydata.org/pandas-docs/stable/user_guide/indexing.html#returning-a-view-versus-a-copy\n",
      "  df[\"TWEETS\"][c], df[\"RETWEETS\"][c] = handle_days_tweets(content)\n",
      "/var/folders/_q/723x80zj33lggwq22rns5tf40000gn/T/ipykernel_5888/3731696927.py:54: SettingWithCopyWarning: \n",
      "A value is trying to be set on a copy of a slice from a DataFrame\n",
      "\n",
      "See the caveats in the documentation: https://pandas.pydata.org/pandas-docs/stable/user_guide/indexing.html#returning-a-view-versus-a-copy\n",
      "  df[\"NON_TWEETS\"][c] = handle_press_release(content)\n"
     ]
    }
   ],
   "metadata": {}
  },
  {
   "cell_type": "code",
   "execution_count": 133,
   "source": [
    "#Write tweets to new csvs\n",
    "trump_df.to_csv(trump_data_path)\n",
    "hillary_df.to_csv(hillary_data_path)"
   ],
   "outputs": [],
   "metadata": {}
  },
  {
   "cell_type": "markdown",
   "source": [
    "# Build metadata"
   ],
   "metadata": {}
  },
  {
   "cell_type": "code",
   "execution_count": 149,
   "source": [
    "df = pd.DataFrame()"
   ],
   "outputs": [],
   "metadata": {}
  },
  {
   "cell_type": "code",
   "execution_count": 150,
   "source": [
    "# Keep in mind that the tweets are bunched up together :(\n",
    "\n",
    "# df[\"DATE\"] = list(trump_df[\"DATE\"]) + list(hillary_df[\"DATE\"])\n",
    "# df[\"CONTENT_TYPE\"] = list(trump_df[\"CONTENT_TYPE\"]) + list(hillary_df[\"CONTENT_TYPE\"])\n",
    "# df[\"CONTENT_CATEGORY\"] = list(trump_df[\"CONTENT_CATEGORY\"]) + list(hillary_df[\"CONTENT_CATEGORY\"])\n",
    "# df[\"CONTENT_LINK\"] = list(trump_df[\"CONTENT_LINK\"]) + list(hillary_df[\"CONTENT_LINK\"])\n",
    "# df[\"CANDIDATE\"] = [\"Donald Trump\"] * trump_df.shape[0] + [\"Hillary Clinton\"] * hillary_df.shape[0]\n",
    "# df[\"PERSON\"] = [\"Donald Trump\"] * trump_df.shape[0] + [\"Hillary Clinton\"] * hillary_df.shape[0]"
   ],
   "outputs": [],
   "metadata": {}
  },
  {
   "cell_type": "code",
   "execution_count": 151,
   "source": [
    "df.head()"
   ],
   "outputs": [
    {
     "output_type": "execute_result",
     "data": {
      "text/html": [
       "<div>\n",
       "<style scoped>\n",
       "    .dataframe tbody tr th:only-of-type {\n",
       "        vertical-align: middle;\n",
       "    }\n",
       "\n",
       "    .dataframe tbody tr th {\n",
       "        vertical-align: top;\n",
       "    }\n",
       "\n",
       "    .dataframe thead th {\n",
       "        text-align: right;\n",
       "    }\n",
       "</style>\n",
       "<table border=\"1\" class=\"dataframe\">\n",
       "  <thead>\n",
       "    <tr style=\"text-align: right;\">\n",
       "      <th></th>\n",
       "      <th>DATE</th>\n",
       "      <th>CONTENT_TYPE</th>\n",
       "      <th>CONTENT_CATEGORY</th>\n",
       "      <th>CONTENT_LINK</th>\n",
       "      <th>CANDIDATE</th>\n",
       "      <th>PERSON</th>\n",
       "    </tr>\n",
       "  </thead>\n",
       "  <tbody>\n",
       "    <tr>\n",
       "      <th>0</th>\n",
       "      <td>2016-01-01</td>\n",
       "      <td>tweet</td>\n",
       "      <td>tweet</td>\n",
       "      <td>https://www.presidency.ucsb.edu/documents/twee...</td>\n",
       "      <td>Donald Trump</td>\n",
       "      <td>Donald Trump</td>\n",
       "    </tr>\n",
       "    <tr>\n",
       "      <th>1</th>\n",
       "      <td>2016-01-02</td>\n",
       "      <td>tweet</td>\n",
       "      <td>tweet</td>\n",
       "      <td>https://www.presidency.ucsb.edu/documents/twee...</td>\n",
       "      <td>Donald Trump</td>\n",
       "      <td>Donald Trump</td>\n",
       "    </tr>\n",
       "    <tr>\n",
       "      <th>2</th>\n",
       "      <td>2016-01-03</td>\n",
       "      <td>text</td>\n",
       "      <td>press release</td>\n",
       "      <td>https://www.presidency.ucsb.edu/documents/pres...</td>\n",
       "      <td>Donald Trump</td>\n",
       "      <td>Donald Trump</td>\n",
       "    </tr>\n",
       "    <tr>\n",
       "      <th>3</th>\n",
       "      <td>2016-01-03</td>\n",
       "      <td>tweet</td>\n",
       "      <td>tweet</td>\n",
       "      <td>https://www.presidency.ucsb.edu/documents/twee...</td>\n",
       "      <td>Donald Trump</td>\n",
       "      <td>Donald Trump</td>\n",
       "    </tr>\n",
       "    <tr>\n",
       "      <th>4</th>\n",
       "      <td>2016-01-04</td>\n",
       "      <td>text</td>\n",
       "      <td>press release</td>\n",
       "      <td>https://www.presidency.ucsb.edu/documents/pres...</td>\n",
       "      <td>Donald Trump</td>\n",
       "      <td>Donald Trump</td>\n",
       "    </tr>\n",
       "  </tbody>\n",
       "</table>\n",
       "</div>"
      ],
      "text/plain": [
       "         DATE CONTENT_TYPE CONTENT_CATEGORY  \\\n",
       "0  2016-01-01        tweet            tweet   \n",
       "1  2016-01-02        tweet            tweet   \n",
       "2  2016-01-03         text    press release   \n",
       "3  2016-01-03        tweet            tweet   \n",
       "4  2016-01-04         text    press release   \n",
       "\n",
       "                                        CONTENT_LINK     CANDIDATE  \\\n",
       "0  https://www.presidency.ucsb.edu/documents/twee...  Donald Trump   \n",
       "1  https://www.presidency.ucsb.edu/documents/twee...  Donald Trump   \n",
       "2  https://www.presidency.ucsb.edu/documents/pres...  Donald Trump   \n",
       "3  https://www.presidency.ucsb.edu/documents/twee...  Donald Trump   \n",
       "4  https://www.presidency.ucsb.edu/documents/pres...  Donald Trump   \n",
       "\n",
       "         PERSON  \n",
       "0  Donald Trump  \n",
       "1  Donald Trump  \n",
       "2  Donald Trump  \n",
       "3  Donald Trump  \n",
       "4  Donald Trump  "
      ]
     },
     "metadata": {},
     "execution_count": 151
    }
   ],
   "metadata": {}
  },
  {
   "cell_type": "code",
   "execution_count": 141,
   "source": [
    "df.to_csv(\"../metadata.csv\")"
   ],
   "outputs": [],
   "metadata": {}
  }
 ],
 "metadata": {
  "orig_nbformat": 4,
  "language_info": {
   "name": "python",
   "version": "3.8.2",
   "mimetype": "text/x-python",
   "codemirror_mode": {
    "name": "ipython",
    "version": 3
   },
   "pygments_lexer": "ipython3",
   "nbconvert_exporter": "python",
   "file_extension": ".py"
  },
  "kernelspec": {
   "name": "python3",
   "display_name": "Python 3.8.2 64-bit"
  },
  "interpreter": {
   "hash": "31f2aee4e71d21fbe5cf8b01ff0e069b9275f58929596ceb00d14d90e3e16cd6"
  }
 },
 "nbformat": 4,
 "nbformat_minor": 2
}