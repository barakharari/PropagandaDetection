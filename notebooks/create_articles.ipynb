{
 "cells": [
  {
   "cell_type": "code",
   "execution_count": null,
   "metadata": {},
   "outputs": [],
   "source": [
    "import pandas\n",
    "import json\n",
    "import re\n",
    "from os.path import join, isdir, exists\n",
    "from os import mkdir, rmdir"
   ]
  },
  {
   "cell_type": "code",
   "execution_count": null,
   "metadata": {},
   "outputs": [],
   "source": [
    "trump_df_name = \"../DT_data.csv\"\n",
    "hillary_df_name = \"../HC_data.csv\"\n",
    "\n",
    "trump_df = pandas.read_csv(trump_df_name)\n",
    "hillary_df = pandas.read_csv(hillary_df_name)"
   ]
  },
  {
   "cell_type": "code",
   "execution_count": null,
   "metadata": {},
   "outputs": [],
   "source": [
    "SEQ_LENGTH = 75"
   ]
  },
  {
   "cell_type": "code",
   "execution_count": null,
   "metadata": {},
   "outputs": [],
   "source": [
    "def write_tweets(candidate, df, column, folder, file_type):\n",
    "\n",
    "  if not isdir(folder):\n",
    "    mkdir(folder)\n",
    "\n",
    "  for i in range(df[column].shape[0]):\n",
    "    tweets = json.loads(re.sub('\\'', '\\\"',  df[column][i]))\n",
    "    day = df[\"DATE\"][i]\n",
    "    category = column.lower()\n",
    "    index = 1\n",
    "    for tweet in tweets:\n",
    "      article_name = candidate + \"_\" + category + \"_\" + str(i) + \"_\" + str(index) + \".\" + file_type\n",
    "      index += 1\n",
    "      with open(join(folder, article_name), \"w\") as f:\n",
    "\n",
    "#### Write in aschern processing format\n",
    "        if file_type == \"txt\":\n",
    "          f.write(tweet[\"text\"])\n",
    "          f.write(\"\\n\\n\")\n",
    "#### Write JSON\n",
    "        elif file_type == \"json\":\n",
    "          tweet[\"date\"] = day\n",
    "          json.dump(tweet, f)"
   ]
  },
  {
   "cell_type": "code",
   "execution_count": null,
   "metadata": {},
   "outputs": [],
   "source": [
    "def convert_token_to_character_number(tokens, token, is_start):\n",
    "  if token == 0:\n",
    "    return 0\n",
    "  if is_start:\n",
    "    return sum(map(lambda x: len(x), tokens[0:token])) + token #Account for spaces\n",
    "  else:\n",
    "    return sum(map(lambda x: len(x), tokens[0:token])) + token-1 #Account for spaces"
   ]
  },
  {
   "cell_type": "code",
   "execution_count": null,
   "metadata": {},
   "outputs": [],
   "source": [
    "def write_non_tweets(candidate, df, non_tweet_folder, file_type, aschern=False):\n",
    "\n",
    "  for i in range(df[\"NON_TWEETS\"].shape[0]):\n",
    "    if df[\"NON_TWEETS\"][i] == []:\n",
    "      continue\n",
    "    category = df[\"CONTENT_CATEGORY\"][i]\n",
    "    if type(category) == float or not category or category == \"tweet\":\n",
    "      continue\n",
    "    folder = non_tweet_folder\n",
    "    if not aschern:\n",
    "      folder = join(non_tweet_folder, category)\n",
    "    if not isdir(folder):\n",
    "      mkdir(folder)\n",
    "    article_name = candidate + \"_\" + category + \"_\" + str(i) + \".\" + file_type\n",
    "    with open(folder + \"/\" + article_name, \"w\") as f:\n",
    "\n",
    "#### Write in aschern processing format\n",
    "      if file_type == \"txt\":\n",
    "        meta_article_name = candidate + \"_\" + category + \"_\" + str(i) + \".csv\"\n",
    "        meta_article_path = join(folder, \"..\", \"meta\")\n",
    "        Path(meta_article_path).mkdir(parents=True, exist_ok=True)\n",
    "\n",
    "        with open(join(meta_article_path, meta_article_name), \"w\") as mf:\n",
    "\n",
    "          meta_df = pandas.DataFrame(columns=[\"sentence\", \"start\", \"end\"])\n",
    "\n",
    "          #Get the entire original article\n",
    "          text = df[\"NON_TWEETS\"][i]\n",
    "          #Split by sentences\n",
    "          sentences = re.split('\\.\\s', text)\n",
    "          #Find token spans and store for each sentence, store tokens in token list\n",
    "          index, token_spans, tokens = 0, [], []\n",
    "          for sentence in sentences:\n",
    "            s = sentence.split()\n",
    "            token_spans.append((index, index+len(s)))\n",
    "            tokens.extend(s)\n",
    "            index += len(s)\n",
    "          \n",
    "          #Sentences = actual sentence, start and end token level span\n",
    "          sentences = list(map(lambda x,y: (x,y[0],y[1]), sentences, token_spans))\n",
    "\n",
    "          #Store the character position with respect to padded file to use for token level span calc\n",
    "          position = 0\n",
    "          for sentence in sentences:\n",
    "            if len(sentence[0]) <= 1:\n",
    "              continue\n",
    "\n",
    "            #Get token level start and end in padded sentence\n",
    "            token_start, token_end = get_nearest_token_span(SEQ_LENGTH, sentence[1], sentence[2], tokens)\n",
    "\n",
    "            #Get character level end points for padded sentences, and the offsets of these sentences\n",
    "            start_pad = convert_token_to_character_number(tokens, token_start, is_start=True)\n",
    "            end_pad = convert_token_to_character_number(tokens, token_end, is_start=False)\n",
    "            start = convert_token_to_character_number(tokens, sentence[1], is_start=True)\n",
    "            end = convert_token_to_character_number(tokens, sentence[2], is_start=False)\n",
    "\n",
    "            meta_data_content = (str(sentence[0]), str(position+(start-start_pad)), str(position+(end-start_pad)))          \n",
    "            # mf.write(\", \".join(meta_data_content) + \"\\n\")\n",
    "            meta_df = meta_df.append({\"sentence\": meta_data_content[0], \"start\": meta_data_content[1], \"end\": meta_data_content[2]}, ignore_index=True)\n",
    "            f.write(\" \".join(tokens[token_start:token_end]) + \"\\n\")\n",
    "\n",
    "            position += (end_pad-start_pad + 1)\n",
    "          meta_df.to_csv(join(meta_article_path, meta_article_name))\n",
    "          f.write(\"\\n\\n\")\n",
    "\n",
    "#### Write JSON\n",
    "      elif file_type == \"json\":\n",
    "        data = {\"text\": df[\"NON_TWEETS\"][i], \"date\": df[\"DATE\"][i]}\n",
    "        json.dump(data, f)\n",
    "      \n",
    "    # print(\"Processed file: \" + str(i))"
   ]
  },
  {
   "cell_type": "markdown",
   "metadata": {},
   "source": [
    "### Check that meta data matches feedforward data"
   ]
  },
  {
   "cell_type": "code",
   "execution_count": null,
   "metadata": {},
   "outputs": [],
   "source": [
    "def span_checksum(feedforward_file_path, meta_file_path, total, to_long):\n",
    "  with open(feedforward_file_path, \"r\") as ff:\n",
    "    feed_forward_file_contents = \"\".join([line for line in ff])\n",
    "    df = pandas.read_csv(meta_file_path)\n",
    "    for i in range(df.shape[0]):\n",
    "      total += 1\n",
    "      \n",
    "      line = df[\"sentence\"][i]\n",
    "      start = df[\"start\"][i]\n",
    "      end = df[\"end\"][i]\n",
    "      \n",
    "      start, end = int(start), int(end)\n",
    "      line = line.split()\n",
    "      if len(line) > 75:\n",
    "        to_long += 1\n",
    "        continue\n",
    "      line = ' '.join(line)\n",
    "      try:\n",
    "        assert(feed_forward_file_contents[start:end].strip() == line)\n",
    "      except:\n",
    "        print(feedforward_file_path,end=\"\")\n",
    "        print(\"\\nMeta data line: \")\n",
    "        print(line)\n",
    "        print(\"\\n\\nFeed forward file associated line: \")\n",
    "        print(feed_forward_file_contents[start:end])\n",
    "        raise Exception()\n",
    "  return total, to_long"
   ]
  },
  {
   "cell_type": "code",
   "execution_count": null,
   "metadata": {},
   "outputs": [],
   "source": [
    "def get_articles_and_meta_path(folder, df, candidate):\n",
    "\n",
    "  ff_files, meta_files = [], []\n",
    "  for i in range(df[\"NON_TWEETS\"].shape[0]):\n",
    "    \n",
    "    category = df[\"CONTENT_CATEGORY\"][i]\n",
    "    \n",
    "    if category == \"tweet\" or category != category:\n",
    "      continue\n",
    "\n",
    "    article_name = candidate + \"_\" + category + \"_\" + str(i) + \".txt\"\n",
    "    ff_file_path = folder + \"/\" + article_name\n",
    "    meta_file_name = candidate + \"_\" + category + \"_\" + str(i) + \".csv\"\n",
    "    meta_file_folder = join(folder, \"..\", \"meta\")\n",
    "    meta_file_path = join(meta_file_folder, meta_file_name)\n",
    "    \n",
    "    ff_files.append(ff_file_path)\n",
    "    meta_files.append(meta_file_path)\n",
    "\n",
    "  return ff_files, meta_files"
   ]
  },
  {
   "cell_type": "code",
   "execution_count": null,
   "metadata": {},
   "outputs": [],
   "source": [
    "def check_files(candidate, df, folder):\n",
    "  total, to_long = 0, 0\n",
    "  ff_files, meta_files = get_articles_and_meta_path(folder, df, candidate)\n",
    "  for i in range(len(ff_files)):\n",
    "    \n",
    "    ff_file_path = ff_files[i]\n",
    "    meta_file_path = meta_files[i]\n",
    "\n",
    "    assert(exists(ff_file_path))\n",
    "    assert(exists(meta_file_path))\n",
    "\n",
    "    # try:\n",
    "    total, to_long = span_checksum(ff_file_path, meta_file_path, total, to_long)\n",
    "    # except:\n",
    "    #   return total, to_long\n",
    "  print(\"passed...\")\n",
    "  return total, to_long"
   ]
  },
  {
   "cell_type": "code",
   "execution_count": null,
   "metadata": {},
   "outputs": [],
   "source": [
    "check_files(\"HC\", hillary_df, \"../aschern_data\")\n",
    "check_files(\"DT\", trump_df, \"../aschern_data\")"
   ]
  },
  {
   "cell_type": "code",
   "execution_count": null,
   "metadata": {},
   "outputs": [],
   "source": [
    "def get_nearest_token_span(seq_length, start, end, tokens):\n",
    "\n",
    "  seg_start, seg_end = 0, 0\n",
    "\n",
    "  span_length = end-start\n",
    "  left_or_right = (seq_length - span_length) // 2\n",
    "  at_left_edge = start-left_or_right < 0\n",
    "  at_right_edge = end+left_or_right > len(tokens)\n",
    "\n",
    "  if at_left_edge:\n",
    "    right_dist = seq_length - start - span_length\n",
    "    seg_end = min(len(tokens), end+right_dist)\n",
    "    seg_start = 0\n",
    "  elif at_right_edge:\n",
    "    left_dist = seq_length - ((len(tokens) - end) + span_length)\n",
    "    seg_start = max(0, start - left_dist)\n",
    "    seg_end = len(tokens)\n",
    "  else:\n",
    "    seg_start = start-left_or_right\n",
    "    seg_end = end + left_or_right\n",
    "  \n",
    "  return seg_start, seg_end"
   ]
  },
  {
   "cell_type": "code",
   "execution_count": null,
   "metadata": {},
   "outputs": [],
   "source": [
    "def remove_dir(directory):\n",
    "  directory = Path(directory)\n",
    "  if not directory.is_dir():\n",
    "    return\n",
    "  for item in directory.iterdir():\n",
    "      if item.is_dir():\n",
    "        rmdir(item)\n",
    "      else:\n",
    "        item.unlink()\n",
    "  directory.rmdir()"
   ]
  },
  {
   "cell_type": "code",
   "execution_count": null,
   "metadata": {},
   "outputs": [],
   "source": [
    "from pathlib import Path\n",
    "\n",
    "base_folder = \"../2016_election_data\"\n",
    "\n",
    "dt_directory = \"donald_trump_campaign\"\n",
    "hc_directory = \"hillary_clinton_campaign\"\n",
    "\n",
    "remove_dir(join(\"../2016_election_data\", dt_directory))\n",
    "remove_dir(join(\"../2016_election_data\", hc_directory))\n",
    "remove_dir(\"../aschern_data/meta\")\n",
    "remove_dir(\"../aschern_data\")\n",
    "\n",
    "Path(join(base_folder, dt_directory, \"donald_trump\")).mkdir(parents=True, exist_ok=True)\n",
    "Path(join(base_folder, hc_directory, \"hillary_clinton\")).mkdir(parents=True, exist_ok=True)"
   ]
  },
  {
   "cell_type": "markdown",
   "metadata": {},
   "source": [
    "# Create folder structure with JSON documents"
   ]
  },
  {
   "cell_type": "code",
   "execution_count": null,
   "metadata": {},
   "outputs": [],
   "source": [
    "write_tweets(\"HC\", hillary_df, \"TWEETS\", join(base_folder, \"hillary_clinton_campaign/hillary_clinton/tweets\"), \"json\")\n",
    "write_tweets(\"HC\", hillary_df, \"RETWEETS\", join(base_folder, \"hillary_clinton_campaign/hillary_clinton/retweets\"), \"json\")\n",
    "write_tweets(\"DT\", trump_df, \"TWEETS\", join(base_folder, \"donald_trump_campaign/donald_trump/tweets\"), \"json\")\n",
    "write_tweets(\"DT\", trump_df, \"RETWEETS\", join(base_folder, \"donald_trump_campaign/donald_trump/retweets\"), \"json\")"
   ]
  },
  {
   "cell_type": "code",
   "execution_count": null,
   "metadata": {},
   "outputs": [],
   "source": [
    "write_non_tweets(\"HC\", hillary_df, join(base_folder, \"hillary_clinton_campaign/hillary_clinton\"), \"json\")\n",
    "write_non_tweets(\"DT\", trump_df, join(base_folder, \"donald_trump_campaign/donald_trump\"), \"json\")"
   ]
  },
  {
   "cell_type": "markdown",
   "metadata": {},
   "source": [
    "# Create folder structure for aschern model"
   ]
  },
  {
   "cell_type": "code",
   "execution_count": null,
   "metadata": {},
   "outputs": [],
   "source": [
    "write_tweets(\"HC\", hillary_df, \"TWEETS\", \"../aschern_data\", \"txt\")\n",
    "write_tweets(\"HC\", hillary_df, \"RETWEETS\", \"../aschern_data\", \"txt\")\n",
    "write_tweets(\"DT\", trump_df, \"TWEETS\", \"../aschern_data\", \"txt\")\n",
    "write_tweets(\"DT\", trump_df, \"RETWEETS\", \"../aschern_data\", \"txt\")"
   ]
  },
  {
   "cell_type": "code",
   "execution_count": null,
   "metadata": {},
   "outputs": [],
   "source": [
    "write_non_tweets(\"HC\", hillary_df, \"../aschern_data\", \"txt\", aschern=True)\n",
    "write_non_tweets(\"DT\", trump_df, \"../aschern_data\", \"txt\", aschern=True)"
   ]
  },
  {
   "cell_type": "code",
   "execution_count": null,
   "metadata": {},
   "outputs": [],
   "source": [
    "check_files(\"HC\", hillary_df, \"../aschern_data\")\n",
    "check_files(\"DT\", trump_df, \"../aschern_data\")"
   ]
  },
  {
   "cell_type": "markdown",
   "metadata": {},
   "source": [
    "# Create propaganda vector dataset"
   ]
  },
  {
   "cell_type": "code",
   "execution_count": 349,
   "metadata": {},
   "outputs": [],
   "source": [
    "PROP_TECHS = [\n",
    "  \"Loaded_Language\",\n",
    "  \"Name_Calling,Labeling\",\n",
    "  \"Repetition\",\n",
    "  \"Exaggeration,Minimisation\",\n",
    "  \"Doubt\",\n",
    "  \"Appeal_to_fear-prejudice\",\n",
    "  \"Flag-Waving\",\n",
    "  \"Causal_Oversimplification\",\n",
    "  \"Slogans\",\n",
    "  \"Appeal_to_Authority\",\n",
    "  \"Black-and-White_Fallacy\",\n",
    "  \"Thought-terminating Cliches\",\n",
    "  \"Whataboutism,Straw_Men,Red_Herring\",\n",
    "  \"Obfuscation,Intentional_Vagueness,Confusion\"]"
   ]
  },
  {
   "cell_type": "code",
   "execution_count": 356,
   "metadata": {},
   "outputs": [
    {
     "name": "stdout",
     "output_type": "stream",
     "text": [
      "Processed 1..."
     ]
    },
    {
     "ename": "FileNotFoundError",
     "evalue": "[Errno 2] File ../meta/DT_retweets_105_2.csv does not exist: '../meta/DT_retweets_105_2.csv'",
     "output_type": "error",
     "traceback": [
      "\u001b[0;31m---------------------------------------------------------------------------\u001b[0m",
      "\u001b[0;31mFileNotFoundError\u001b[0m                         Traceback (most recent call last)",
      "\u001b[0;32m/var/folders/_q/723x80zj33lggwq22rns5tf40000gn/T/ipykernel_82143/3315998720.py\u001b[0m in \u001b[0;36m<module>\u001b[0;34m\u001b[0m\n\u001b[1;32m     19\u001b[0m \u001b[0;34m\u001b[0m\u001b[0m\n\u001b[1;32m     20\u001b[0m       \u001b[0mmeta_file_path\u001b[0m \u001b[0;34m=\u001b[0m \u001b[0mjoin\u001b[0m\u001b[0;34m(\u001b[0m\u001b[0;34m\"..\"\u001b[0m\u001b[0;34m,\u001b[0m\u001b[0;34m\"meta\"\u001b[0m\u001b[0;34m,\u001b[0m\u001b[0mfile_name\u001b[0m\u001b[0;34m.\u001b[0m\u001b[0msplit\u001b[0m\u001b[0;34m(\u001b[0m\u001b[0;34m\".\"\u001b[0m\u001b[0;34m)\u001b[0m\u001b[0;34m[\u001b[0m\u001b[0;36m0\u001b[0m\u001b[0;34m]\u001b[0m\u001b[0;34m+\u001b[0m\u001b[0;34m\".csv\"\u001b[0m\u001b[0;34m)\u001b[0m\u001b[0;34m\u001b[0m\u001b[0;34m\u001b[0m\u001b[0m\n\u001b[0;32m---> 21\u001b[0;31m       \u001b[0mmeta_df\u001b[0m \u001b[0;34m=\u001b[0m \u001b[0mpandas\u001b[0m\u001b[0;34m.\u001b[0m\u001b[0mread_csv\u001b[0m\u001b[0;34m(\u001b[0m\u001b[0mmeta_file_path\u001b[0m\u001b[0;34m)\u001b[0m\u001b[0;34m\u001b[0m\u001b[0;34m\u001b[0m\u001b[0m\n\u001b[0m\u001b[1;32m     22\u001b[0m       \u001b[0mvector\u001b[0m \u001b[0;34m=\u001b[0m \u001b[0;34m[\u001b[0m\u001b[0;36m0\u001b[0m\u001b[0;34m]\u001b[0m\u001b[0;34m*\u001b[0m\u001b[0;36m14\u001b[0m\u001b[0;34m\u001b[0m\u001b[0;34m\u001b[0m\u001b[0m\n\u001b[1;32m     23\u001b[0m \u001b[0;34m\u001b[0m\u001b[0m\n",
      "\u001b[0;32m~/Library/Python/3.8/lib/python/site-packages/pandas/io/parsers.py\u001b[0m in \u001b[0;36mparser_f\u001b[0;34m(filepath_or_buffer, sep, delimiter, header, names, index_col, usecols, squeeze, prefix, mangle_dupe_cols, dtype, engine, converters, true_values, false_values, skipinitialspace, skiprows, skipfooter, nrows, na_values, keep_default_na, na_filter, verbose, skip_blank_lines, parse_dates, infer_datetime_format, keep_date_col, date_parser, dayfirst, cache_dates, iterator, chunksize, compression, thousands, decimal, lineterminator, quotechar, quoting, doublequote, escapechar, comment, encoding, dialect, error_bad_lines, warn_bad_lines, delim_whitespace, low_memory, memory_map, float_precision)\u001b[0m\n\u001b[1;32m    674\u001b[0m         )\n\u001b[1;32m    675\u001b[0m \u001b[0;34m\u001b[0m\u001b[0m\n\u001b[0;32m--> 676\u001b[0;31m         \u001b[0;32mreturn\u001b[0m \u001b[0m_read\u001b[0m\u001b[0;34m(\u001b[0m\u001b[0mfilepath_or_buffer\u001b[0m\u001b[0;34m,\u001b[0m \u001b[0mkwds\u001b[0m\u001b[0;34m)\u001b[0m\u001b[0;34m\u001b[0m\u001b[0;34m\u001b[0m\u001b[0m\n\u001b[0m\u001b[1;32m    677\u001b[0m \u001b[0;34m\u001b[0m\u001b[0m\n\u001b[1;32m    678\u001b[0m     \u001b[0mparser_f\u001b[0m\u001b[0;34m.\u001b[0m\u001b[0m__name__\u001b[0m \u001b[0;34m=\u001b[0m \u001b[0mname\u001b[0m\u001b[0;34m\u001b[0m\u001b[0;34m\u001b[0m\u001b[0m\n",
      "\u001b[0;32m~/Library/Python/3.8/lib/python/site-packages/pandas/io/parsers.py\u001b[0m in \u001b[0;36m_read\u001b[0;34m(filepath_or_buffer, kwds)\u001b[0m\n\u001b[1;32m    446\u001b[0m \u001b[0;34m\u001b[0m\u001b[0m\n\u001b[1;32m    447\u001b[0m     \u001b[0;31m# Create the parser.\u001b[0m\u001b[0;34m\u001b[0m\u001b[0;34m\u001b[0m\u001b[0;34m\u001b[0m\u001b[0m\n\u001b[0;32m--> 448\u001b[0;31m     \u001b[0mparser\u001b[0m \u001b[0;34m=\u001b[0m \u001b[0mTextFileReader\u001b[0m\u001b[0;34m(\u001b[0m\u001b[0mfp_or_buf\u001b[0m\u001b[0;34m,\u001b[0m \u001b[0;34m**\u001b[0m\u001b[0mkwds\u001b[0m\u001b[0;34m)\u001b[0m\u001b[0;34m\u001b[0m\u001b[0;34m\u001b[0m\u001b[0m\n\u001b[0m\u001b[1;32m    449\u001b[0m \u001b[0;34m\u001b[0m\u001b[0m\n\u001b[1;32m    450\u001b[0m     \u001b[0;32mif\u001b[0m \u001b[0mchunksize\u001b[0m \u001b[0;32mor\u001b[0m \u001b[0miterator\u001b[0m\u001b[0;34m:\u001b[0m\u001b[0;34m\u001b[0m\u001b[0;34m\u001b[0m\u001b[0m\n",
      "\u001b[0;32m~/Library/Python/3.8/lib/python/site-packages/pandas/io/parsers.py\u001b[0m in \u001b[0;36m__init__\u001b[0;34m(self, f, engine, **kwds)\u001b[0m\n\u001b[1;32m    878\u001b[0m             \u001b[0mself\u001b[0m\u001b[0;34m.\u001b[0m\u001b[0moptions\u001b[0m\u001b[0;34m[\u001b[0m\u001b[0;34m\"has_index_names\"\u001b[0m\u001b[0;34m]\u001b[0m \u001b[0;34m=\u001b[0m \u001b[0mkwds\u001b[0m\u001b[0;34m[\u001b[0m\u001b[0;34m\"has_index_names\"\u001b[0m\u001b[0;34m]\u001b[0m\u001b[0;34m\u001b[0m\u001b[0;34m\u001b[0m\u001b[0m\n\u001b[1;32m    879\u001b[0m \u001b[0;34m\u001b[0m\u001b[0m\n\u001b[0;32m--> 880\u001b[0;31m         \u001b[0mself\u001b[0m\u001b[0;34m.\u001b[0m\u001b[0m_make_engine\u001b[0m\u001b[0;34m(\u001b[0m\u001b[0mself\u001b[0m\u001b[0;34m.\u001b[0m\u001b[0mengine\u001b[0m\u001b[0;34m)\u001b[0m\u001b[0;34m\u001b[0m\u001b[0;34m\u001b[0m\u001b[0m\n\u001b[0m\u001b[1;32m    881\u001b[0m \u001b[0;34m\u001b[0m\u001b[0m\n\u001b[1;32m    882\u001b[0m     \u001b[0;32mdef\u001b[0m \u001b[0mclose\u001b[0m\u001b[0;34m(\u001b[0m\u001b[0mself\u001b[0m\u001b[0;34m)\u001b[0m\u001b[0;34m:\u001b[0m\u001b[0;34m\u001b[0m\u001b[0;34m\u001b[0m\u001b[0m\n",
      "\u001b[0;32m~/Library/Python/3.8/lib/python/site-packages/pandas/io/parsers.py\u001b[0m in \u001b[0;36m_make_engine\u001b[0;34m(self, engine)\u001b[0m\n\u001b[1;32m   1112\u001b[0m     \u001b[0;32mdef\u001b[0m \u001b[0m_make_engine\u001b[0m\u001b[0;34m(\u001b[0m\u001b[0mself\u001b[0m\u001b[0;34m,\u001b[0m \u001b[0mengine\u001b[0m\u001b[0;34m=\u001b[0m\u001b[0;34m\"c\"\u001b[0m\u001b[0;34m)\u001b[0m\u001b[0;34m:\u001b[0m\u001b[0;34m\u001b[0m\u001b[0;34m\u001b[0m\u001b[0m\n\u001b[1;32m   1113\u001b[0m         \u001b[0;32mif\u001b[0m \u001b[0mengine\u001b[0m \u001b[0;34m==\u001b[0m \u001b[0;34m\"c\"\u001b[0m\u001b[0;34m:\u001b[0m\u001b[0;34m\u001b[0m\u001b[0;34m\u001b[0m\u001b[0m\n\u001b[0;32m-> 1114\u001b[0;31m             \u001b[0mself\u001b[0m\u001b[0;34m.\u001b[0m\u001b[0m_engine\u001b[0m \u001b[0;34m=\u001b[0m \u001b[0mCParserWrapper\u001b[0m\u001b[0;34m(\u001b[0m\u001b[0mself\u001b[0m\u001b[0;34m.\u001b[0m\u001b[0mf\u001b[0m\u001b[0;34m,\u001b[0m \u001b[0;34m**\u001b[0m\u001b[0mself\u001b[0m\u001b[0;34m.\u001b[0m\u001b[0moptions\u001b[0m\u001b[0;34m)\u001b[0m\u001b[0;34m\u001b[0m\u001b[0;34m\u001b[0m\u001b[0m\n\u001b[0m\u001b[1;32m   1115\u001b[0m         \u001b[0;32melse\u001b[0m\u001b[0;34m:\u001b[0m\u001b[0;34m\u001b[0m\u001b[0;34m\u001b[0m\u001b[0m\n\u001b[1;32m   1116\u001b[0m             \u001b[0;32mif\u001b[0m \u001b[0mengine\u001b[0m \u001b[0;34m==\u001b[0m \u001b[0;34m\"python\"\u001b[0m\u001b[0;34m:\u001b[0m\u001b[0;34m\u001b[0m\u001b[0;34m\u001b[0m\u001b[0m\n",
      "\u001b[0;32m~/Library/Python/3.8/lib/python/site-packages/pandas/io/parsers.py\u001b[0m in \u001b[0;36m__init__\u001b[0;34m(self, src, **kwds)\u001b[0m\n\u001b[1;32m   1889\u001b[0m         \u001b[0mkwds\u001b[0m\u001b[0;34m[\u001b[0m\u001b[0;34m\"usecols\"\u001b[0m\u001b[0;34m]\u001b[0m \u001b[0;34m=\u001b[0m \u001b[0mself\u001b[0m\u001b[0;34m.\u001b[0m\u001b[0musecols\u001b[0m\u001b[0;34m\u001b[0m\u001b[0;34m\u001b[0m\u001b[0m\n\u001b[1;32m   1890\u001b[0m \u001b[0;34m\u001b[0m\u001b[0m\n\u001b[0;32m-> 1891\u001b[0;31m         \u001b[0mself\u001b[0m\u001b[0;34m.\u001b[0m\u001b[0m_reader\u001b[0m \u001b[0;34m=\u001b[0m \u001b[0mparsers\u001b[0m\u001b[0;34m.\u001b[0m\u001b[0mTextReader\u001b[0m\u001b[0;34m(\u001b[0m\u001b[0msrc\u001b[0m\u001b[0;34m,\u001b[0m \u001b[0;34m**\u001b[0m\u001b[0mkwds\u001b[0m\u001b[0;34m)\u001b[0m\u001b[0;34m\u001b[0m\u001b[0;34m\u001b[0m\u001b[0m\n\u001b[0m\u001b[1;32m   1892\u001b[0m         \u001b[0mself\u001b[0m\u001b[0;34m.\u001b[0m\u001b[0munnamed_cols\u001b[0m \u001b[0;34m=\u001b[0m \u001b[0mself\u001b[0m\u001b[0;34m.\u001b[0m\u001b[0m_reader\u001b[0m\u001b[0;34m.\u001b[0m\u001b[0munnamed_cols\u001b[0m\u001b[0;34m\u001b[0m\u001b[0;34m\u001b[0m\u001b[0m\n\u001b[1;32m   1893\u001b[0m \u001b[0;34m\u001b[0m\u001b[0m\n",
      "\u001b[0;32mpandas/_libs/parsers.pyx\u001b[0m in \u001b[0;36mpandas._libs.parsers.TextReader.__cinit__\u001b[0;34m()\u001b[0m\n",
      "\u001b[0;32mpandas/_libs/parsers.pyx\u001b[0m in \u001b[0;36mpandas._libs.parsers.TextReader._setup_parser_source\u001b[0;34m()\u001b[0m\n",
      "\u001b[0;31mFileNotFoundError\u001b[0m: [Errno 2] File ../meta/DT_retweets_105_2.csv does not exist: '../meta/DT_retweets_105_2.csv'"
     ]
    }
   ],
   "source": [
    "NUM_FINAL_RESULTS=32\n",
    "\n",
    "root_folder = \"../result_techniques\"\n",
    "\n",
    "vector_df = pandas.DataFrame(columns=[\"File Name\", \"Candidate\", \"Sentence\", \"Propaganda Segment\"] + PROP_TECHS)\n",
    "\n",
    "for i in range(NUM_FINAL_RESULTS):\n",
    "  result_file = join(root_folder, str(i+1)+\"_final_tc_results.txt\")\n",
    "  with open(result_file, \"r\") as rf:\n",
    "    rf.readline()\n",
    "    #Extract propaganda techniques and documents\n",
    "    for line in rf:\n",
    "      line = line.split()\n",
    "      file_name = line[0]\n",
    "      prop_start = line[1]\n",
    "      prop_end = line[2]\n",
    "      prop_line = \" \".join(line[3:len(line)-1])\n",
    "      prop_technique = line[len(line)-1]\n",
    "\n",
    "      meta_file_path = join(\"..\",\"meta\",file_name.split(\".\")[0]+\".csv\")\n",
    "      meta_df = pandas.read_csv(meta_file_path)\n",
    "      vector = [0]*14\n",
    "      \n",
    "      for j in range(meta_df.shape[0]):\n",
    "        sentence_info = meta_df.iloc[j]\n",
    "        if int(sentence_info[\"start\"]) <= int(prop_start) <= int(sentence_info[\"end\"]):\n",
    "          #Check if we've already found propaganda in this sentence\n",
    "          if (vector_df[\"Sentence\"] == sentence_info[\"sentence\"]).any():\n",
    "            vector_df.loc[vector_df[\"Sentence\"] == sentence_info[\"sentence\"],\"Propaganda Segments\"] += \", \" + prop_line + \": \" + prop_technique\n",
    "            vector_df.loc[vector_df[\"Sentence\"] == sentence_info[\"sentence\"],\"Num Prop\"] += 1\n",
    "            vector_df.loc[vector_df[\"Sentence\"] == sentence_info[\"sentence\"],prop_technique] += 1\n",
    "          else:\n",
    "            vector_df = vector_df.append(\n",
    "              {\"Candidate\": file_name[0:2],\n",
    "              \"File Name\": file_name, \n",
    "              \"Sentence\": sentence_info[\"sentence\"],\n",
    "              \"Propaganda Segments\": prop_line + \": \" + prop_technique,\n",
    "              \"Num Prop\": 1,\n",
    "              prop_technique: 1}, ignore_index=True)\n",
    "          break\n",
    "        elif int(sentence_info[\"start\"]) > int(prop_start):\n",
    "          break \n",
    "  print(\"Processed \" + str(i+1), end=\"...\")\n",
    "vector_df.to_csv(\"classifier_training_data.csv\")"
   ]
  },
  {
   "cell_type": "code",
   "execution_count": null,
   "metadata": {},
   "outputs": [],
   "source": []
  }
 ],
 "metadata": {
  "interpreter": {
   "hash": "31f2aee4e71d21fbe5cf8b01ff0e069b9275f58929596ceb00d14d90e3e16cd6"
  },
  "kernelspec": {
   "display_name": "Python 3.8.2 64-bit",
   "name": "python3"
  },
  "language_info": {
   "codemirror_mode": {
    "name": "ipython",
    "version": 3
   },
   "file_extension": ".py",
   "mimetype": "text/x-python",
   "name": "python",
   "nbconvert_exporter": "python",
   "pygments_lexer": "ipython3",
   "version": "3.8.2"
  },
  "orig_nbformat": 4
 },
 "nbformat": 4,
 "nbformat_minor": 2
}
