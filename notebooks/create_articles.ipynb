{
 "cells": [
  {
   "cell_type": "code",
   "execution_count": 1,
   "source": [
    "import pandas\n",
    "import json\n",
    "import re\n",
    "from os.path import join, isdir\n",
    "from os import mkdir"
   ],
   "outputs": [],
   "metadata": {}
  },
  {
   "cell_type": "code",
   "execution_count": 2,
   "source": [
    "trump_df_name = \"../DT_data.csv\"\n",
    "hillary_df_name = \"../HC_data.csv\"\n",
    "\n",
    "trump_df = pandas.read_csv(trump_df_name)\n",
    "hillary_df = pandas.read_csv(hillary_df_name)"
   ],
   "outputs": [],
   "metadata": {}
  },
  {
   "cell_type": "code",
   "execution_count": 3,
   "source": [
    "SEQ_LENGTH = 512\n",
    "\n",
    "def write_tweets(candidate, df, column, folder, file_type):\n",
    "\n",
    "  if not isdir(folder):\n",
    "    mkdir(folder)\n",
    "\n",
    "  for i in range(df[column].shape[0]):\n",
    "    tweets = json.loads(re.sub('\\'', '\\\"',  df[column][i]))\n",
    "    day = df[\"DATE\"][i]\n",
    "    category = column.lower()\n",
    "    index = 1\n",
    "    for tweet in tweets:\n",
    "      article_name = candidate + \"_\" + category + \"_\" + str(i) + \"_\" + str(index) + \".\" + file_type\n",
    "      index += 1\n",
    "      with open(join(folder, article_name), \"w\") as f:\n",
    "\n",
    "#### Write in aschern processing format\n",
    "        if file_type == \"txt\":\n",
    "          f.write(tweet[\"text\"])\n",
    "          f.write(\"\\n\\n\")\n",
    "#### Write JSON\n",
    "        elif file_type == \"json\":\n",
    "          tweet[\"date\"] = day\n",
    "          json.dump(tweet, f)\n",
    "\n",
    "def write_non_tweets(candidate, df, non_tweet_folder, file_type, aschern=False):\n",
    "  for i in range(df[\"NON_TWEETS\"].shape[0]):\n",
    "    if df[\"NON_TWEETS\"][i] == []:\n",
    "      continue\n",
    "    category = df[\"CONTENT_CATEGORY\"][i]\n",
    "    if type(category) == float or not category or category == \"tweet\":\n",
    "      continue\n",
    "    folder = non_tweet_folder\n",
    "    if not aschern:\n",
    "      folder = join(non_tweet_folder, category)\n",
    "    if not isdir(folder):\n",
    "      mkdir(folder)\n",
    "    article_name = candidate + \"_\" + category + \"_\" + str(i) + \".\" + file_type\n",
    "    with open(folder + \"/\" + article_name, \"w\") as f:\n",
    "\n",
    "#### Write in aschern processing format\n",
    "      if file_type == \"txt\":\n",
    "        #TODO: SPLIT BY SENTENCES \"/s, ./s ...\n",
    "        \n",
    "        text = df[\"NON_TWEETS\"][i]\n",
    "        sentences = re.split('[\\'\\\".]\\s', text)\n",
    "\n",
    "        # if len(text) <= SEQ_LENGTH:\n",
    "        #   return [text]\n",
    "        \n",
    "        # sentence_start = 0\n",
    "        # sentence_end = SEQ_LENGTH - 1\n",
    "        # sentences = []\n",
    "\n",
    "        # eos = re.compile(r\"([\\'\\\"\\.\\?\\!])(\\s|\\t)\")\n",
    "        # space = re.compile(r\"\\s\")\n",
    "        \n",
    "        # while sentence_end < len(text):\n",
    "        #   if (eos.match(text[sentence_end-1:sentence_end+1]) or (sentence_end-sentence_start < SEQ_LENGTH - 100 and space.match(text[sentence_end:sentence_end+1]))):\n",
    "        #     sentence = text[sentence_start:sentence_end]\n",
    "        #     sentences.append(sentence)\n",
    "        #     sentence_start = sentence_end + 1\n",
    "        #     sentence_end += SEQ_LENGTH - 1\n",
    "        #   else:\n",
    "        #     sentence_end -= 1\n",
    "\n",
    "        for sentence in sentences:\n",
    "          if len(sentence.split()) > 4:\n",
    "            f.write(sentence + \"\\n\")\n",
    "        f.write(\"\\n\\n\")\n",
    "\n",
    "#### Write JSON\n",
    "      elif file_type == \"json\":\n",
    "        data = {\"text\": df[\"NON_TWEETS\"][i], \"date\": df[\"DATE\"][i]}\n",
    "        json.dump(data, f)\n",
    "      \n",
    "    # print(\"Processed file: \" + str(i))\n",
    "\n",
    "      "
   ],
   "outputs": [],
   "metadata": {}
  },
  {
   "cell_type": "code",
   "execution_count": 5,
   "source": [
    "from pathlib import Path\n",
    "\n",
    "base_folder = \"../2016_election_data\"\n",
    "\n",
    "#TODO: Delete Folder\n",
    "def rmdir(directory):\n",
    "  directory = Path(directory)\n",
    "  for item in directory.iterdir():\n",
    "      if item.is_dir():\n",
    "        rmdir(item)\n",
    "      else:\n",
    "        item.unlink()\n",
    "  directory.rmdir()\n",
    "\n",
    "dt_directory = \"donald_trump_campaign\"\n",
    "hc_directory = \"hillary_clinton_campaign\"\n",
    "\n",
    "rmdir(join(\"../2016_election_data\", dt_directory))\n",
    "rmdir(join(\"../2016_election_data\", hc_directory))\n",
    "rmdir(\"../aschern_data\")\n",
    "\n",
    "Path(join(base_folder, dt_directory, \"donald_trump\")).mkdir(parents=True, exist_ok=True)\n",
    "Path(join(base_folder, hc_directory, \"hillary_clinton\")).mkdir(parents=True, exist_ok=True)"
   ],
   "outputs": [],
   "metadata": {}
  },
  {
   "cell_type": "markdown",
   "source": [
    "# Create folder structure with JSON documents"
   ],
   "metadata": {}
  },
  {
   "cell_type": "code",
   "execution_count": 6,
   "source": [
    "write_tweets(\"HC\", hillary_df, \"TWEETS\", join(base_folder, \"hillary_clinton_campaign/hillary_clinton/tweets\"), \"json\")\n",
    "write_tweets(\"HC\", hillary_df, \"RETWEETS\", join(base_folder, \"hillary_clinton_campaign/hillary_clinton/retweets\"), \"json\")\n",
    "write_tweets(\"DT\", trump_df, \"TWEETS\", join(base_folder, \"donald_trump_campaign/donald_trump/tweets\"), \"json\")\n",
    "write_tweets(\"DT\", trump_df, \"RETWEETS\", join(base_folder, \"donald_trump_campaign/donald_trump/retweets\"), \"json\")"
   ],
   "outputs": [],
   "metadata": {}
  },
  {
   "cell_type": "code",
   "execution_count": 7,
   "source": [
    "write_non_tweets(\"HC\", hillary_df, join(base_folder, \"hillary_clinton_campaign/hillary_clinton\"), \"json\")\n",
    "write_non_tweets(\"DT\", trump_df, join(base_folder, \"donald_trump_campaign/donald_trump\"), \"json\")"
   ],
   "outputs": [],
   "metadata": {}
  },
  {
   "cell_type": "markdown",
   "source": [
    "# Create folder structure for aschern model"
   ],
   "metadata": {}
  },
  {
   "cell_type": "code",
   "execution_count": 8,
   "source": [
    "write_tweets(\"HC\", hillary_df, \"TWEETS\", \"../aschern_data\", \"txt\")\n",
    "write_tweets(\"HC\", hillary_df, \"RETWEETS\", \"../aschern_data\", \"txt\")\n",
    "write_tweets(\"DT\", trump_df, \"TWEETS\", \"../aschern_data\", \"txt\")\n",
    "write_tweets(\"DT\", trump_df, \"RETWEETS\", \"../aschern_data\", \"txt\")"
   ],
   "outputs": [],
   "metadata": {}
  },
  {
   "cell_type": "code",
   "execution_count": 9,
   "source": [
    "write_non_tweets(\"HC\", hillary_df, \"../aschern_data\", \"txt\", aschern=True)\n",
    "write_non_tweets(\"DT\", trump_df, \"../aschern_data\", \"txt\", aschern=True)"
   ],
   "outputs": [],
   "metadata": {}
  }
 ],
 "metadata": {
  "orig_nbformat": 4,
  "language_info": {
   "name": "python",
   "version": "3.8.2",
   "mimetype": "text/x-python",
   "codemirror_mode": {
    "name": "ipython",
    "version": 3
   },
   "pygments_lexer": "ipython3",
   "nbconvert_exporter": "python",
   "file_extension": ".py"
  },
  "kernelspec": {
   "name": "python3",
   "display_name": "Python 3.8.2 64-bit"
  },
  "interpreter": {
   "hash": "31f2aee4e71d21fbe5cf8b01ff0e069b9275f58929596ceb00d14d90e3e16cd6"
  }
 },
 "nbformat": 4,
 "nbformat_minor": 2
}