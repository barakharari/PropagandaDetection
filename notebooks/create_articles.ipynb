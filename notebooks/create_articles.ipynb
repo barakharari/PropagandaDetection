{
 "cells": [
  {
   "cell_type": "code",
   "execution_count": null,
   "metadata": {},
   "outputs": [],
   "source": [
    "import pandas\n",
    "import json\n",
    "import re\n",
    "from os.path import join, isdir, exists\n",
    "from os import mkdir, rmdir"
   ]
  },
  {
   "cell_type": "code",
   "execution_count": null,
   "metadata": {},
   "outputs": [],
   "source": [
    "trump_df_name = \"../DT_data.csv\"\n",
    "hillary_df_name = \"../HC_data.csv\"\n",
    "\n",
    "trump_df = pandas.read_csv(trump_df_name)\n",
    "hillary_df = pandas.read_csv(hillary_df_name)"
   ]
  },
  {
   "cell_type": "code",
   "execution_count": null,
   "metadata": {},
   "outputs": [],
   "source": [
    "trump_hillary_tweets_name = \"../hillary_trump_tweets.csv\"\n",
    "trump_hillary_tweets_df = pandas.read_csv(trump_hillary_tweets_name)"
   ]
  },
  {
   "cell_type": "code",
   "execution_count": null,
   "metadata": {},
   "outputs": [],
   "source": [
    "trump_df = trump_hillary_tweets_df.loc[trump_hillary_tweets_df[\"handle\"] == \"realDonaldTrump\"].reset_index()\n",
    "hillary_df = trump_hillary_tweets_df.loc[trump_hillary_tweets_df[\"handle\"] == \"HillaryClinton\"].reset_index()"
   ]
  },
  {
   "cell_type": "code",
   "execution_count": null,
   "metadata": {},
   "outputs": [],
   "source": [
    "trump_df.columns"
   ]
  },
  {
   "cell_type": "code",
   "execution_count": null,
   "metadata": {},
   "outputs": [],
   "source": [
    "# Split up tweets so that model can process them all (and in parallel)\n",
    "NUM_TWEETS_PER_FILE = 500\n",
    "\n",
    "def write_kaggle_tweets(candidate, df, column, folder):\n",
    "  # Make tweets dir if doesn't exist\n",
    "  if not isdir(folder):\n",
    "    mkdir(folder)\n",
    "\n",
    "  # Loop through the dataframe, write every 500 tweets to a new file\n",
    "  index = 0\n",
    "  while (index < df.shape[0]):\n",
    "    with open(join(folder, candidate + str(index) + \"_\" + str(index+NUM_TWEETS_PER_FILE) + \".txt\"), \"w\") as f:\n",
    "      for i in range(index, min(index+NUM_TWEETS_PER_FILE, df.shape[0])):\n",
    "        tweet = df[column][i].replace(\"\\n\", \" \")\n",
    "        f.write(tweet + \"\\n\")\n",
    "      index+=NUM_TWEETS_PER_FILE"
   ]
  },
  {
   "cell_type": "code",
   "execution_count": null,
   "metadata": {},
   "outputs": [],
   "source": [
    "write_kaggle_tweets(\"DT\", trump_df, \"text\", \"tweets\")\n",
    "write_kaggle_tweets(\"HC\", hillary_df, \"text\", \"tweets\")"
   ]
  },
  {
   "cell_type": "code",
   "execution_count": null,
   "metadata": {},
   "outputs": [],
   "source": [
    "SEQ_LENGTH = 75\n",
    "ABSOLUTE_PATH = \"/Users/barakharari/Desktop/School/GradProject/propaganda-detection\""
   ]
  },
  {
   "cell_type": "code",
   "execution_count": null,
   "metadata": {},
   "outputs": [],
   "source": [
    "def write_tweets(candidate, df, column, folder, file_type):\n",
    "\n",
    "  if not isdir(folder):\n",
    "    mkdir(folder)\n",
    "\n",
    "  for i in range(df[column].shape[0]):\n",
    "    tweets = json.loads(re.sub('\\'', '\\\"',  df[column][i]))\n",
    "    day = df[\"DATE\"][i]\n",
    "    category = column.lower()\n",
    "    index = 1\n",
    "    for tweet in tweets:\n",
    "      article_name = candidate + \"_\" + category + \"_\" + str(i) + \"_\" + str(index) + \".\" + file_type\n",
    "      index += 1\n",
    "      with open(join(folder, article_name), \"w\") as f:\n",
    "\n",
    "#### Write in aschern processing format\n",
    "        if file_type == \"txt\":\n",
    "          f.write(tweet[\"text\"])\n",
    "          f.write(\"\\n\\n\")\n",
    "#### Write JSON\n",
    "        elif file_type == \"json\":\n",
    "          tweet[\"date\"] = day\n",
    "          json.dump(tweet, f)"
   ]
  },
  {
   "cell_type": "code",
   "execution_count": null,
   "metadata": {},
   "outputs": [],
   "source": [
    "def convert_token_to_character_number(tokens, token, is_start):\n",
    "  if token == 0:\n",
    "    return 0\n",
    "  if is_start:\n",
    "    return sum(map(lambda x: len(x), tokens[0:token])) + token #Account for spaces\n",
    "  else:\n",
    "    return sum(map(lambda x: len(x), tokens[0:token])) + token-1 #Account for spaces"
   ]
  },
  {
   "cell_type": "code",
   "execution_count": null,
   "metadata": {},
   "outputs": [],
   "source": [
    "def write_non_tweets(candidate, df, non_tweet_folder, file_type, aschern=False):\n",
    "\n",
    "  for i in range(df[\"NON_TWEETS\"].shape[0]):\n",
    "    if df[\"NON_TWEETS\"][i] == []:\n",
    "      continue\n",
    "    category = df[\"CONTENT_CATEGORY\"][i]\n",
    "    if type(category) == float or not category or category == \"tweet\":\n",
    "      continue\n",
    "    folder = non_tweet_folder\n",
    "    if not aschern:\n",
    "      folder = join(non_tweet_folder, category)\n",
    "    if not isdir(folder):\n",
    "      mkdir(folder)\n",
    "    article_name = candidate + \"_\" + category + \"_\" + str(i) + \".\" + file_type\n",
    "    with open(folder + \"/\" + article_name, \"w\") as f:\n",
    "\n",
    "#### Write in aschern processing format\n",
    "      if file_type == \"txt\":\n",
    "        meta_article_name = candidate + \"_\" + \"_\".join(category.split()) + \"_\" + str(i) + \".csv\"\n",
    "        meta_article_folder = join(ABSOLUTE_PATH, \"meta\")\n",
    "        meta_article_path = join(meta_article_folder, meta_article_name)\n",
    "        Path(meta_article_folder).mkdir(parents=True, exist_ok=True)\n",
    "        meta_df = pandas.DataFrame(columns=[\"sentence\", \"start\", \"end\"])\n",
    "\n",
    "        #Get the entire original article\n",
    "        text = df[\"NON_TWEETS\"][i]\n",
    "        #Split by sentences\n",
    "        sentences = re.split('\\.\\s', text)\n",
    "        #Find token spans and store for each sentence, store tokens in token list\n",
    "        index, token_spans, tokens = 0, [], []\n",
    "        for sentence in sentences:\n",
    "          s = sentence.split()\n",
    "          token_spans.append((index, index+len(s)))\n",
    "          tokens.extend(s)\n",
    "          index += len(s)\n",
    "        \n",
    "        #Sentences = actual sentence, start and end token level span\n",
    "        sentences = list(map(lambda x,y: (x,y[0],y[1]), sentences, token_spans))\n",
    "\n",
    "        #Store the character position with respect to padded file to use for token level span calc\n",
    "        position = 0\n",
    "        for sentence in sentences:\n",
    "          if len(sentence[0]) <= 1:\n",
    "            continue\n",
    "\n",
    "          #Get token level start and end in padded sentence\n",
    "          token_start, token_end = get_nearest_token_span(SEQ_LENGTH, sentence[1], sentence[2], tokens)\n",
    "\n",
    "          #Get character level end points for padded sentences, and the offsets of these sentences\n",
    "          start_pad = convert_token_to_character_number(tokens, token_start, is_start=True)\n",
    "          end_pad = convert_token_to_character_number(tokens, token_end, is_start=False)\n",
    "          start = convert_token_to_character_number(tokens, sentence[1], is_start=True)\n",
    "          end = convert_token_to_character_number(tokens, sentence[2], is_start=False)\n",
    "\n",
    "          meta_data_content = (str(sentence[0]), str(position+(start-start_pad)), str(position+(end-start_pad)))          \n",
    "          # mf.write(\", \".join(meta_data_content) + \"\\n\")\n",
    "          meta_df = meta_df.append({\"sentence\": meta_data_content[0], \"start\": meta_data_content[1], \"end\": meta_data_content[2]}, ignore_index=True)\n",
    "          f.write(\" \".join(tokens[token_start:token_end]) + \"\\n\")\n",
    "\n",
    "          position += (end_pad-start_pad + 1)\n",
    "        meta_df.to_csv(meta_article_path)\n",
    "\n",
    "#### Write JSON\n",
    "      elif file_type == \"json\":\n",
    "        data = {\"text\": df[\"NON_TWEETS\"][i], \"date\": df[\"DATE\"][i]}\n",
    "        json.dump(data, f)\n",
    "      \n",
    "    # print(\"Processed file: \" + str(i))"
   ]
  },
  {
   "cell_type": "markdown",
   "metadata": {},
   "source": [
    "### Check that meta data matches feedforward data"
   ]
  },
  {
   "cell_type": "code",
   "execution_count": null,
   "metadata": {},
   "outputs": [],
   "source": [
    "def span_checksum(feedforward_file_path, meta_file_path, total, to_long):\n",
    "  with open(feedforward_file_path, \"r\") as ff:\n",
    "    feed_forward_file_contents = \"\".join([line for line in ff])\n",
    "    df = pandas.read_csv(meta_file_path)\n",
    "    for i in range(df.shape[0]):\n",
    "      total += 1\n",
    "      \n",
    "      line = df[\"sentence\"][i]\n",
    "      start = df[\"start\"][i]\n",
    "      end = df[\"end\"][i]\n",
    "      \n",
    "      start, end = int(start), int(end)\n",
    "      line = line.split()\n",
    "      if len(line) > 75:\n",
    "        to_long += 1\n",
    "        continue\n",
    "      line = ' '.join(line)\n",
    "      try:\n",
    "        assert(feed_forward_file_contents[start:end].strip() == line)\n",
    "      except:\n",
    "        print(feedforward_file_path,end=\"\")\n",
    "        print(\"\\nMeta data line: \")\n",
    "        print(line)\n",
    "        print(\"\\n\\nFeed forward file associated line: \")\n",
    "        print(feed_forward_file_contents[start:end])\n",
    "        raise Exception()\n",
    "  return total, to_long"
   ]
  },
  {
   "cell_type": "code",
   "execution_count": null,
   "metadata": {},
   "outputs": [],
   "source": [
    "def get_articles_and_meta_path(folder, df, candidate):\n",
    "\n",
    "  ff_files, meta_files = [], []\n",
    "  for i in range(df[\"NON_TWEETS\"].shape[0]):\n",
    "    \n",
    "    category = df[\"CONTENT_CATEGORY\"][i]\n",
    "    \n",
    "    if category == \"tweet\" or category != category:\n",
    "      continue\n",
    "\n",
    "    article_name = candidate + \"_\" + category + \"_\" + str(i) + \".txt\"\n",
    "    ff_file_path = folder + \"/\" + article_name\n",
    "    meta_file_name = candidate + \"_\" + category + \"_\" + str(i) + \".csv\"\n",
    "    meta_file_name = \"_\".join(meta_file_name.split())\n",
    "    meta_file_folder = join(folder, \"..\", \"meta\")\n",
    "    meta_file_path = join(meta_file_folder, meta_file_name)\n",
    "    \n",
    "    ff_files.append(ff_file_path)\n",
    "    meta_files.append(meta_file_path)\n",
    "\n",
    "  return ff_files, meta_files"
   ]
  },
  {
   "cell_type": "code",
   "execution_count": null,
   "metadata": {},
   "outputs": [],
   "source": [
    "def check_files(candidate, df, folder):\n",
    "  total, to_long = 0, 0\n",
    "  ff_files, meta_files = get_articles_and_meta_path(folder, df, candidate)\n",
    "  for i in range(len(ff_files)):\n",
    "    \n",
    "    ff_file_path = ff_files[i]\n",
    "    meta_file_path = meta_files[i]\n",
    "\n",
    "    assert(exists(ff_file_path))\n",
    "    assert(exists(meta_file_path))\n",
    "\n",
    "    # try:\n",
    "    total, to_long = span_checksum(ff_file_path, meta_file_path, total, to_long)\n",
    "    # except:\n",
    "    #   return total, to_long\n",
    "  print(\"passed...\")\n",
    "  return total, to_long"
   ]
  },
  {
   "cell_type": "code",
   "execution_count": null,
   "metadata": {},
   "outputs": [],
   "source": [
    "def get_nearest_token_span(seq_length, start, end, tokens):\n",
    "\n",
    "  seg_start, seg_end = 0, 0\n",
    "\n",
    "  span_length = end-start\n",
    "  left_or_right = (seq_length - span_length) // 2\n",
    "  at_left_edge = start-left_or_right < 0\n",
    "  at_right_edge = end+left_or_right > len(tokens)\n",
    "\n",
    "  if at_left_edge:\n",
    "    right_dist = seq_length - start - span_length\n",
    "    seg_end = min(len(tokens), end+right_dist)\n",
    "    seg_start = 0\n",
    "  elif at_right_edge:\n",
    "    left_dist = seq_length - ((len(tokens) - end) + span_length)\n",
    "    seg_start = max(0, start - left_dist)\n",
    "    seg_end = len(tokens)\n",
    "  else:\n",
    "    seg_start = start-left_or_right\n",
    "    seg_end = end + left_or_right\n",
    "  \n",
    "  return seg_start, seg_end"
   ]
  },
  {
   "cell_type": "code",
   "execution_count": null,
   "metadata": {},
   "outputs": [],
   "source": [
    "def remove_dir(directory):\n",
    "  directory = Path(directory)\n",
    "  if not directory.is_dir():\n",
    "    return\n",
    "  for item in directory.iterdir():\n",
    "      if item.is_dir():\n",
    "        rmdir(item)\n",
    "      else:\n",
    "        item.unlink()\n",
    "  directory.rmdir()"
   ]
  },
  {
   "cell_type": "code",
   "execution_count": null,
   "metadata": {},
   "outputs": [],
   "source": [
    "from pathlib import Path\n",
    "\n",
    "base_folder = \"../2016_election_data\"\n",
    "\n",
    "dt_directory = \"donald_trump_campaign\"\n",
    "hc_directory = \"hillary_clinton_campaign\"\n",
    "\n",
    "remove_dir(join(ABSOLUTE_PATH, \"/2016_election_data\", dt_directory))\n",
    "remove_dir(join(ABSOLUTE_PATH, \"2016_election_data\", hc_directory))\n",
    "remove_dir(join(ABSOLUTE_PATH, \"meta\"))\n",
    "remove_dir(join(ABSOLUTE_PATH, \"aschern_data\"))\n",
    "\n",
    "Path(join(base_folder, dt_directory, \"donald_trump\")).mkdir(parents=True, exist_ok=True)\n",
    "Path(join(base_folder, hc_directory, \"hillary_clinton\")).mkdir(parents=True, exist_ok=True)"
   ]
  },
  {
   "cell_type": "markdown",
   "metadata": {},
   "source": [
    "# Create folder structure with JSON documents"
   ]
  },
  {
   "cell_type": "code",
   "execution_count": null,
   "metadata": {},
   "outputs": [],
   "source": [
    "write_tweets(\"HC\", hillary_df, \"TWEETS\", join(base_folder, \"hillary_clinton_campaign/hillary_clinton/tweets\"), \"json\")\n",
    "write_tweets(\"HC\", hillary_df, \"RETWEETS\", join(base_folder, \"hillary_clinton_campaign/hillary_clinton/retweets\"), \"json\")\n",
    "write_tweets(\"DT\", trump_df, \"TWEETS\", join(base_folder, \"donald_trump_campaign/donald_trump/tweets\"), \"json\")\n",
    "write_tweets(\"DT\", trump_df, \"RETWEETS\", join(base_folder, \"donald_trump_campaign/donald_trump/retweets\"), \"json\")"
   ]
  },
  {
   "cell_type": "code",
   "execution_count": null,
   "metadata": {},
   "outputs": [],
   "source": [
    "write_non_tweets(\"HC\", hillary_df, join(base_folder, \"hillary_clinton_campaign/hillary_clinton\"), \"json\")\n",
    "write_non_tweets(\"DT\", trump_df, join(base_folder, \"donald_trump_campaign/donald_trump\"), \"json\")"
   ]
  },
  {
   "cell_type": "markdown",
   "metadata": {},
   "source": [
    "# Create folder structure for aschern model"
   ]
  },
  {
   "cell_type": "code",
   "execution_count": null,
   "metadata": {},
   "outputs": [],
   "source": [
    "write_tweets(\"HC\", hillary_df, \"TWEETS\", \"../aschern_data\", \"txt\")\n",
    "write_tweets(\"HC\", hillary_df, \"RETWEETS\", \"../aschern_data\", \"txt\")\n",
    "write_tweets(\"DT\", trump_df, \"TWEETS\", \"../aschern_data\", \"txt\")\n",
    "write_tweets(\"DT\", trump_df, \"RETWEETS\", \"../aschern_data\", \"txt\")"
   ]
  },
  {
   "cell_type": "code",
   "execution_count": null,
   "metadata": {},
   "outputs": [],
   "source": [
    "write_non_tweets(\"HC\", hillary_df, join(ABSOLUTE_PATH, \"aschern_data\"), \"txt\", aschern=True)\n",
    "write_non_tweets(\"DT\", trump_df, join(ABSOLUTE_PATH, \"aschern_data\"), \"txt\", aschern=True)"
   ]
  },
  {
   "cell_type": "code",
   "execution_count": null,
   "metadata": {},
   "outputs": [],
   "source": [
    "check_files(\"HC\", hillary_df, join(ABSOLUTE_PATH, \"aschern_data\"))\n",
    "check_files(\"DT\", trump_df, join(ABSOLUTE_PATH, \"aschern_data\"))"
   ]
  },
  {
   "cell_type": "markdown",
   "metadata": {},
   "source": [
    "# Create propaganda vector dataset"
   ]
  },
  {
   "cell_type": "code",
   "execution_count": null,
   "metadata": {},
   "outputs": [],
   "source": [
    "PROP_TECHS = [\n",
    "  \"Loaded_Language\",\n",
    "  \"Name_Calling,Labeling\",\n",
    "  \"Repetition\",\n",
    "  \"Exaggeration,Minimisation\",\n",
    "  \"Doubt\",\n",
    "  \"Appeal_to_fear-prejudice\",\n",
    "  \"Flag-Waving\",\n",
    "  \"Causal_Oversimplification\",\n",
    "  \"Slogans\",\n",
    "  \"Appeal_to_Authority\",\n",
    "  \"Black-and-White_Fallacy\",\n",
    "  \"Thought-terminating Cliches\",\n",
    "  \"Whataboutism,Straw_Men,Red_Herring\",\n",
    "  \"Obfuscation,Intentional_Vagueness,Confusion\",\n",
    "  \"Bandwagon,Reductio_ad_hitlerum\"]"
   ]
  },
  {
   "cell_type": "code",
   "execution_count": null,
   "metadata": {},
   "outputs": [],
   "source": [
    "NUM_FINAL_RESULTS=32\n",
    "\n",
    "root_folder = \"../result_techniques\"\n",
    "\n",
    "vector_df = pandas.DataFrame(columns=[\"File Name\", \"Candidate\", \"Sentence\", \"Propaganda Segments\"] + PROP_TECHS)\n",
    "\n",
    "for i in range(NUM_FINAL_RESULTS):\n",
    "  result_file = join(root_folder, str(i+1)+\"_final_tc_results.txt\")\n",
    "  with open(result_file, \"r\") as rf:\n",
    "    rf.readline()\n",
    "    #Extract propaganda techniques and documents\n",
    "    for line in rf:\n",
    "      line = line.split()\n",
    "      file_name = line[0]\n",
    "      prop_start = line[1]\n",
    "      prop_end = line[2]\n",
    "      prop_line = \" \".join(line[3:len(line)-1])\n",
    "      prop_technique = line[len(line)-1]\n",
    "      vector = [0]*14\n",
    "\n",
    "      meta_file_path = join(ABSOLUTE_PATH,\"meta\",file_name.split(\".\")[0]+\".csv\")\n",
    "      \n",
    "      if re.search('tweet', file_name):\n",
    "        with open(join(\"../\", \"aschern_data\", file_name), \"r\") as ff:\n",
    "          tweet = ff.readline()\n",
    "          if (vector_df[\"Sentence\"] == tweet).any():\n",
    "            vector_df.loc[vector_df[\"Sentence\"] == tweet, \"Propaganda Segments\"] += \", \\\"\" + prop_line + \"\\\": \" + prop_technique\n",
    "            vector_df.loc[vector_df[\"Sentence\"] == tweet, \"Num Prop\"] += 1\n",
    "            vector_df.loc[vector_df[\"Sentence\"] == tweet, prop_technique] += 1\n",
    "          else:\n",
    "            vector_df = vector_df.append(\n",
    "              {\"Candidate\": file_name[0:2],\n",
    "              \"File Name\": file_name, \n",
    "              \"Sentence\": tweet,\n",
    "              \"Propaganda Segments\": prop_line + \": \" + prop_technique,\n",
    "              \"Num Prop\": 1,\n",
    "              prop_technique: 1}, ignore_index=True)\n",
    "        continue\n",
    "      \n",
    "      meta_df = pandas.read_csv(meta_file_path)\n",
    "\n",
    "      for j in range(meta_df.shape[0]):\n",
    "        sentence_info = meta_df.iloc[j]\n",
    "        if int(sentence_info[\"start\"]) <= int(prop_start) <= int(sentence_info[\"end\"]):\n",
    "          #Check if we've already found propaganda in this sentence\n",
    "          if (vector_df[\"Sentence\"] == sentence_info[\"sentence\"]).any():\n",
    "            vector_df.loc[vector_df[\"Sentence\"] == sentence_info[\"sentence\"],\"Propaganda Segments\"] += \", \\\"\" + prop_line + \"\\\": \" + prop_technique\n",
    "            vector_df.loc[vector_df[\"Sentence\"] == sentence_info[\"sentence\"],\"Num Prop\"] += 1\n",
    "            vector_df.loc[vector_df[\"Sentence\"] == sentence_info[\"sentence\"],prop_technique] += 1\n",
    "          else:\n",
    "            vector_df = vector_df.append(\n",
    "              {\"Candidate\": file_name[0:2],\n",
    "              \"File Name\": file_name, \n",
    "              \"Sentence\": sentence_info[\"sentence\"],\n",
    "              \"Propaganda Segments\": prop_line + \": \" + prop_technique,\n",
    "              \"Num Prop\": 1,\n",
    "              prop_technique: 1}, ignore_index=True)\n",
    "          break\n",
    "        elif int(sentence_info[\"start\"]) > int(prop_start):\n",
    "          break \n",
    "  print(\"Processed \" + str(i+1), end=\"...\")\n",
    "vector_df.to_csv(\"../classifier_training_data.csv\")"
   ]
  }
 ],
 "metadata": {
  "interpreter": {
   "hash": "31f2aee4e71d21fbe5cf8b01ff0e069b9275f58929596ceb00d14d90e3e16cd6"
  },
  "kernelspec": {
   "display_name": "Python 3.8.10 64-bit",
   "name": "python3"
  },
  "language_info": {
   "codemirror_mode": {
    "name": "ipython",
    "version": 3
   },
   "file_extension": ".py",
   "mimetype": "text/x-python",
   "name": "python",
   "nbconvert_exporter": "python",
   "pygments_lexer": "ipython3",
   "version": "3.8.2"
  },
  "orig_nbformat": 4
 },
 "nbformat": 4,
 "nbformat_minor": 2
}
