{
 "cells": [
  {
   "cell_type": "code",
   "execution_count": null,
   "source": [
    "from sklearn.datasets import load_iris\n",
    "from sklearn.linear_model import LogisticRegression\n",
    "from sklearn.ensemble import RandomForestClassifier\n",
    "from sklearn.model_selection import KFold\n",
    "import numpy as np"
   ],
   "outputs": [],
   "metadata": {}
  },
  {
   "cell_type": "code",
   "execution_count": null,
   "source": [
    "X = np.array([[1,2], [3,4], [1,2], [3,4]])\n",
    "y = np.array([1,2,3,4])"
   ],
   "outputs": [],
   "metadata": {}
  },
  {
   "cell_type": "code",
   "execution_count": null,
   "source": [
    "kf = KFold(n_splits=4)\n",
    "kf.get_n_splits(X)"
   ],
   "outputs": [],
   "metadata": {}
  },
  {
   "cell_type": "code",
   "execution_count": null,
   "source": [
    "for train_index, test_index in kf.split(X):\n",
    "  print(\"Train:\", train_index, \"Test:\", test_index)\n",
    "  X_train, X_test = X[train_index], X[test_index]\n",
    "  y_train, y_test = y[train_index], y[test_index]"
   ],
   "outputs": [],
   "metadata": {}
  },
  {
   "cell_type": "code",
   "execution_count": null,
   "source": [
    "#TODO: X should be a matrix where each row is a document and each column is a propaganda technique\n",
    "# y: colum vector where each row is a document, 0 for hillary, 1 for trump\n",
    "\n",
    "# FOR EACH CLASSIFICATION TECHNIQUE C, use k-fold cross validation to measure average performance of models trained using the technique\n",
    "# AKA, we've got to split up the dataset\n",
    "\n",
    "X, y = load_iris(return_X_y=True)"
   ],
   "outputs": [],
   "metadata": {}
  },
  {
   "cell_type": "code",
   "execution_count": null,
   "source": [
    "#Logistic Regression\n",
    "logisitic_clf = LogisticRegression(random_state=0).fit(X, y)\n",
    "logisitic_clf.predict(X[:2])\n",
    "logisitic_clf.predict_proba(X[:2, :])\n",
    "logisitic_clf.score(X,y)"
   ],
   "outputs": [],
   "metadata": {}
  },
  {
   "cell_type": "code",
   "execution_count": null,
   "source": [
    "#Random Forrest\n",
    "rf_clf = RandomForestClassifier(max_depth=max_depth, random_state=0)\n",
    "rf_clf.fit(X, y)\n",
    "rf_clf.predit()"
   ],
   "outputs": [],
   "metadata": {}
  }
 ],
 "metadata": {
  "orig_nbformat": 4,
  "language_info": {
   "name": "python",
   "version": "3.9.6",
   "mimetype": "text/x-python",
   "codemirror_mode": {
    "name": "ipython",
    "version": 3
   },
   "pygments_lexer": "ipython3",
   "nbconvert_exporter": "python",
   "file_extension": ".py"
  },
  "kernelspec": {
   "name": "python3",
   "display_name": "Python 3.9.6 64-bit ('base': conda)"
  },
  "interpreter": {
   "hash": "076427301155837ddf9a656590166e05ec50892c32d1333c5cd1e1809b962280"
  }
 },
 "nbformat": 4,
 "nbformat_minor": 2
}